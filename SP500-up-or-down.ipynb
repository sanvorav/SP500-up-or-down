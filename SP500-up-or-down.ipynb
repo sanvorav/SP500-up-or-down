{
 "cells": [
  {
   "cell_type": "markdown",
   "metadata": {},
   "source": [
    "# SP500: Up or Down\n",
    "Using daily market movement of the S&P500 over 20 years, can we predict the next day movement?"
   ]
  },
  {
   "cell_type": "code",
   "execution_count": 30,
   "metadata": {},
   "outputs": [],
   "source": [
    "library(RcppRoll)\n",
    "library(MASS)\n",
    "library(klaR)\n",
    "library(e1071)\n",
    "library(caret)\n",
    "library(zoo)\n",
    "library(xts)\n",
    "library(magrittr)\n",
    "library(lubridate)\n",
    "library(tidyverse)\n",
    "options(warn=-1)"
   ]
  },
  {
   "cell_type": "code",
   "execution_count": 4,
   "metadata": {},
   "outputs": [
    {
     "name": "stderr",
     "output_type": "stream",
     "text": [
      "Parsed with column specification:\n",
      "cols(\n",
      "  Date = \u001b[34mcol_date(format = \"\")\u001b[39m,\n",
      "  Open = \u001b[32mcol_double()\u001b[39m,\n",
      "  High = \u001b[32mcol_double()\u001b[39m,\n",
      "  Low = \u001b[32mcol_double()\u001b[39m,\n",
      "  Close = \u001b[32mcol_double()\u001b[39m,\n",
      "  `Adj Close` = \u001b[32mcol_double()\u001b[39m,\n",
      "  Volume = \u001b[32mcol_double()\u001b[39m\n",
      ")\n"
     ]
    },
    {
     "data": {
      "text/html": [
       "<table>\n",
       "<caption>A tibble: 3 × 7</caption>\n",
       "<thead>\n",
       "\t<tr><th scope=col>date</th><th scope=col>open</th><th scope=col>high</th><th scope=col>low</th><th scope=col>close</th><th scope=col>adj.close</th><th scope=col>volume</th></tr>\n",
       "\t<tr><th scope=col>&lt;date&gt;</th><th scope=col>&lt;dbl&gt;</th><th scope=col>&lt;dbl&gt;</th><th scope=col>&lt;dbl&gt;</th><th scope=col>&lt;dbl&gt;</th><th scope=col>&lt;dbl&gt;</th><th scope=col>&lt;dbl&gt;</th></tr>\n",
       "</thead>\n",
       "<tbody>\n",
       "\t<tr><td>1999-06-14</td><td>1293.64</td><td>1301.99</td><td>1292.20</td><td>1294.00</td><td>1294.00</td><td>669400000</td></tr>\n",
       "\t<tr><td>1999-06-15</td><td>1294.00</td><td>1310.76</td><td>1294.00</td><td>1301.16</td><td>1301.16</td><td>696600000</td></tr>\n",
       "\t<tr><td>1999-06-16</td><td>1301.16</td><td>1332.83</td><td>1301.16</td><td>1330.41</td><td>1330.41</td><td>806800000</td></tr>\n",
       "</tbody>\n",
       "</table>\n"
      ],
      "text/latex": [
       "A tibble: 3 × 7\n",
       "\\begin{tabular}{r|lllllll}\n",
       " date & open & high & low & close & adj.close & volume\\\\\n",
       " <date> & <dbl> & <dbl> & <dbl> & <dbl> & <dbl> & <dbl>\\\\\n",
       "\\hline\n",
       "\t 1999-06-14 & 1293.64 & 1301.99 & 1292.20 & 1294.00 & 1294.00 & 669400000\\\\\n",
       "\t 1999-06-15 & 1294.00 & 1310.76 & 1294.00 & 1301.16 & 1301.16 & 696600000\\\\\n",
       "\t 1999-06-16 & 1301.16 & 1332.83 & 1301.16 & 1330.41 & 1330.41 & 806800000\\\\\n",
       "\\end{tabular}\n"
      ],
      "text/markdown": [
       "\n",
       "A tibble: 3 × 7\n",
       "\n",
       "| date &lt;date&gt; | open &lt;dbl&gt; | high &lt;dbl&gt; | low &lt;dbl&gt; | close &lt;dbl&gt; | adj.close &lt;dbl&gt; | volume &lt;dbl&gt; |\n",
       "|---|---|---|---|---|---|---|\n",
       "| 1999-06-14 | 1293.64 | 1301.99 | 1292.20 | 1294.00 | 1294.00 | 669400000 |\n",
       "| 1999-06-15 | 1294.00 | 1310.76 | 1294.00 | 1301.16 | 1301.16 | 696600000 |\n",
       "| 1999-06-16 | 1301.16 | 1332.83 | 1301.16 | 1330.41 | 1330.41 | 806800000 |\n",
       "\n"
      ],
      "text/plain": [
       "  date       open    high    low     close   adj.close volume   \n",
       "1 1999-06-14 1293.64 1301.99 1292.20 1294.00 1294.00   669400000\n",
       "2 1999-06-15 1294.00 1310.76 1294.00 1301.16 1301.16   696600000\n",
       "3 1999-06-16 1301.16 1332.83 1301.16 1330.41 1330.41   806800000"
      ]
     },
     "metadata": {},
     "output_type": "display_data"
    }
   ],
   "source": [
    "# Loading the data set\n",
    "sp500 <- read_csv(\"sp500_20y.csv\")\n",
    "colnames(sp500) <- tolower(make.names(colnames(sp500)))\n",
    "head(sp500,3)"
   ]
  },
  {
   "cell_type": "markdown",
   "metadata": {},
   "source": [
    "_Create additional feature columns from the daily movement. Here we will look at two, three, four consecutive days up and down._"
   ]
  },
  {
   "cell_type": "code",
   "execution_count": 5,
   "metadata": {},
   "outputs": [
    {
     "data": {
      "text/html": [
       "<table>\n",
       "<caption>A tibble: 6 × 9</caption>\n",
       "<thead>\n",
       "\t<tr><th scope=col>date</th><th scope=col>adj.close</th><th scope=col>pct.chg</th><th scope=col>up2cd</th><th scope=col>up3cd</th><th scope=col>up4cd</th><th scope=col>dn2cd</th><th scope=col>dn3cd</th><th scope=col>dn4cd</th></tr>\n",
       "\t<tr><th scope=col>&lt;date&gt;</th><th scope=col>&lt;dbl&gt;</th><th scope=col>&lt;dbl&gt;</th><th scope=col>&lt;dbl&gt;</th><th scope=col>&lt;dbl&gt;</th><th scope=col>&lt;dbl&gt;</th><th scope=col>&lt;dbl&gt;</th><th scope=col>&lt;dbl&gt;</th><th scope=col>&lt;dbl&gt;</th></tr>\n",
       "</thead>\n",
       "<tbody>\n",
       "\t<tr><td>1999-06-15</td><td>1301.16</td><td>-0.005502808</td><td>0</td><td>0</td><td>0</td><td>0</td><td>0</td><td>0</td></tr>\n",
       "\t<tr><td>1999-06-16</td><td>1330.41</td><td>-0.021985703</td><td>0</td><td>0</td><td>0</td><td>1</td><td>0</td><td>0</td></tr>\n",
       "\t<tr><td>1999-06-17</td><td>1339.90</td><td>-0.007082611</td><td>0</td><td>0</td><td>0</td><td>1</td><td>1</td><td>0</td></tr>\n",
       "\t<tr><td>1999-06-18</td><td>1342.84</td><td>-0.002189347</td><td>0</td><td>0</td><td>0</td><td>1</td><td>1</td><td>1</td></tr>\n",
       "\t<tr><td>1999-06-21</td><td>1349.00</td><td>-0.004566371</td><td>0</td><td>0</td><td>0</td><td>1</td><td>1</td><td>1</td></tr>\n",
       "\t<tr><td>1999-06-22</td><td>1335.88</td><td> 0.009821238</td><td>0</td><td>0</td><td>0</td><td>0</td><td>0</td><td>0</td></tr>\n",
       "</tbody>\n",
       "</table>\n"
      ],
      "text/latex": [
       "A tibble: 6 × 9\n",
       "\\begin{tabular}{r|lllllllll}\n",
       " date & adj.close & pct.chg & up2cd & up3cd & up4cd & dn2cd & dn3cd & dn4cd\\\\\n",
       " <date> & <dbl> & <dbl> & <dbl> & <dbl> & <dbl> & <dbl> & <dbl> & <dbl>\\\\\n",
       "\\hline\n",
       "\t 1999-06-15 & 1301.16 & -0.005502808 & 0 & 0 & 0 & 0 & 0 & 0\\\\\n",
       "\t 1999-06-16 & 1330.41 & -0.021985703 & 0 & 0 & 0 & 1 & 0 & 0\\\\\n",
       "\t 1999-06-17 & 1339.90 & -0.007082611 & 0 & 0 & 0 & 1 & 1 & 0\\\\\n",
       "\t 1999-06-18 & 1342.84 & -0.002189347 & 0 & 0 & 0 & 1 & 1 & 1\\\\\n",
       "\t 1999-06-21 & 1349.00 & -0.004566371 & 0 & 0 & 0 & 1 & 1 & 1\\\\\n",
       "\t 1999-06-22 & 1335.88 &  0.009821238 & 0 & 0 & 0 & 0 & 0 & 0\\\\\n",
       "\\end{tabular}\n"
      ],
      "text/markdown": [
       "\n",
       "A tibble: 6 × 9\n",
       "\n",
       "| date &lt;date&gt; | adj.close &lt;dbl&gt; | pct.chg &lt;dbl&gt; | up2cd &lt;dbl&gt; | up3cd &lt;dbl&gt; | up4cd &lt;dbl&gt; | dn2cd &lt;dbl&gt; | dn3cd &lt;dbl&gt; | dn4cd &lt;dbl&gt; |\n",
       "|---|---|---|---|---|---|---|---|---|\n",
       "| 1999-06-15 | 1301.16 | -0.005502808 | 0 | 0 | 0 | 0 | 0 | 0 |\n",
       "| 1999-06-16 | 1330.41 | -0.021985703 | 0 | 0 | 0 | 1 | 0 | 0 |\n",
       "| 1999-06-17 | 1339.90 | -0.007082611 | 0 | 0 | 0 | 1 | 1 | 0 |\n",
       "| 1999-06-18 | 1342.84 | -0.002189347 | 0 | 0 | 0 | 1 | 1 | 1 |\n",
       "| 1999-06-21 | 1349.00 | -0.004566371 | 0 | 0 | 0 | 1 | 1 | 1 |\n",
       "| 1999-06-22 | 1335.88 |  0.009821238 | 0 | 0 | 0 | 0 | 0 | 0 |\n",
       "\n"
      ],
      "text/plain": [
       "  date       adj.close pct.chg      up2cd up3cd up4cd dn2cd dn3cd dn4cd\n",
       "1 1999-06-15 1301.16   -0.005502808 0     0     0     0     0     0    \n",
       "2 1999-06-16 1330.41   -0.021985703 0     0     0     1     0     0    \n",
       "3 1999-06-17 1339.90   -0.007082611 0     0     0     1     1     0    \n",
       "4 1999-06-18 1342.84   -0.002189347 0     0     0     1     1     1    \n",
       "5 1999-06-21 1349.00   -0.004566371 0     0     0     1     1     1    \n",
       "6 1999-06-22 1335.88    0.009821238 0     0     0     0     0     0    "
      ]
     },
     "metadata": {},
     "output_type": "display_data"
    }
   ],
   "source": [
    "# percent change and number of consecutive days up or down\n",
    "\n",
    "sp500_20y <- sp500 %>% \n",
    "    select(date, adj.close) %>% \n",
    "    mutate(# %change from prior day\n",
    "           pct.chg = (lag(adj.close) - adj.close) / (adj.close),\n",
    "           # up two consecutive days\n",
    "           up2cd = case_when(lag(pct.chg, 1) > 0 & \n",
    "                                 pct.chg > 0  ~ 1, \n",
    "                             T ~ 0),\n",
    "           # up three consecutive days\n",
    "           up3cd = case_when(lag(pct.chg, 2) > 0 & \n",
    "                                  lag(pct.chg, 1) > 0 & \n",
    "                                  pct.chg > 0 ~ 1,\n",
    "                              T ~ 0),\n",
    "           # up four consecutive days\n",
    "           up4cd = case_when(lag(pct.chg, 3) > 0 & \n",
    "                                  lag(pct.chg, 2) > 0 & \n",
    "                                  lag(pct.chg, 1) > 0 & \n",
    "                                  pct.chg > 0 ~ 1,\n",
    "                              T ~ 0),\n",
    "           # down two consecutive days\n",
    "           dn2cd = case_when(lag(pct.chg, 1) < 0 & \n",
    "                           pct.chg < 0  ~ 1, \n",
    "                             T ~ 0),\n",
    "           # down up three consecutive days\n",
    "           dn3cd = case_when(lag(pct.chg, 2) < 0 & \n",
    "                                  lag(pct.chg, 1) < 0 & \n",
    "                                  pct.chg < 0 ~ 1,\n",
    "                              T ~ 0),\n",
    "           # down up four consecutive days\n",
    "           dn4cd = case_when(lag(pct.chg, 3) < 0 &\n",
    "                                  lag(pct.chg, 2) < 0 & \n",
    "                                  lag(pct.chg, 1) < 0 & \n",
    "                                  pct.chg < 0 ~ 1,\n",
    "                              T ~ 0)) %>% drop_na() \n",
    "head(sp500_20y)"
   ]
  },
  {
   "cell_type": "markdown",
   "metadata": {},
   "source": [
    "_We are going to add additional features. The selections are arbitrary for the most part._\n",
    "- 10 year treasure bond rate\n",
    "- cattle futures\n",
    "- coffee price\n",
    "- copper price\n",
    "- crude oil futures\n",
    "- lumber futures\n",
    "- US dollars futures\n",
    "- VIX"
   ]
  },
  {
   "cell_type": "code",
   "execution_count": 7,
   "metadata": {
    "scrolled": true
   },
   "outputs": [
    {
     "name": "stderr",
     "output_type": "stream",
     "text": [
      "Parsed with column specification:\n",
      "cols(\n",
      "  date = \u001b[31mcol_character()\u001b[39m,\n",
      "  treasury_bond = \u001b[32mcol_double()\u001b[39m\n",
      ")\n",
      "Parsed with column specification:\n",
      "cols(\n",
      "  date = \u001b[31mcol_character()\u001b[39m,\n",
      "  cattle = \u001b[32mcol_double()\u001b[39m\n",
      ")\n",
      "Parsed with column specification:\n",
      "cols(\n",
      "  date = \u001b[31mcol_character()\u001b[39m,\n",
      "  coffee = \u001b[32mcol_double()\u001b[39m\n",
      ")\n",
      "Parsed with column specification:\n",
      "cols(\n",
      "  date = \u001b[31mcol_character()\u001b[39m,\n",
      "  copper = \u001b[32mcol_double()\u001b[39m\n",
      ")\n",
      "Parsed with column specification:\n",
      "cols(\n",
      "  date = \u001b[31mcol_character()\u001b[39m,\n",
      "  crude_oil = \u001b[32mcol_double()\u001b[39m\n",
      ")\n",
      "Parsed with column specification:\n",
      "cols(\n",
      "  date = \u001b[31mcol_character()\u001b[39m,\n",
      "  lumber = \u001b[32mcol_double()\u001b[39m\n",
      ")\n",
      "Parsed with column specification:\n",
      "cols(\n",
      "  date = \u001b[31mcol_character()\u001b[39m,\n",
      "  us_dollar = \u001b[32mcol_double()\u001b[39m\n",
      ")\n",
      "Parsed with column specification:\n",
      "cols(\n",
      "  date = \u001b[31mcol_character()\u001b[39m,\n",
      "  vix_adj_close = \u001b[32mcol_double()\u001b[39m\n",
      ")\n"
     ]
    },
    {
     "data": {
      "text/html": [
       "<table>\n",
       "<caption>A tibble: 1 × 17</caption>\n",
       "<thead>\n",
       "\t<tr><th scope=col>date</th><th scope=col>adj.close</th><th scope=col>pct.chg</th><th scope=col>up2cd</th><th scope=col>up3cd</th><th scope=col>up4cd</th><th scope=col>dn2cd</th><th scope=col>dn3cd</th><th scope=col>dn4cd</th><th scope=col>treasury_bond</th><th scope=col>cattle</th><th scope=col>coffee</th><th scope=col>copper</th><th scope=col>crude_oil</th><th scope=col>lumber</th><th scope=col>us_dollar</th><th scope=col>vix_adj_close</th></tr>\n",
       "\t<tr><th scope=col>&lt;int&gt;</th><th scope=col>&lt;int&gt;</th><th scope=col>&lt;int&gt;</th><th scope=col>&lt;int&gt;</th><th scope=col>&lt;int&gt;</th><th scope=col>&lt;int&gt;</th><th scope=col>&lt;int&gt;</th><th scope=col>&lt;int&gt;</th><th scope=col>&lt;int&gt;</th><th scope=col>&lt;int&gt;</th><th scope=col>&lt;int&gt;</th><th scope=col>&lt;int&gt;</th><th scope=col>&lt;int&gt;</th><th scope=col>&lt;int&gt;</th><th scope=col>&lt;int&gt;</th><th scope=col>&lt;int&gt;</th><th scope=col>&lt;int&gt;</th></tr>\n",
       "</thead>\n",
       "<tbody>\n",
       "\t<tr><td>0</td><td>0</td><td>0</td><td>0</td><td>0</td><td>0</td><td>0</td><td>0</td><td>0</td><td>34</td><td>20</td><td>22</td><td>36</td><td>17</td><td>28</td><td>0</td><td>0</td></tr>\n",
       "</tbody>\n",
       "</table>\n"
      ],
      "text/latex": [
       "A tibble: 1 × 17\n",
       "\\begin{tabular}{r|lllllllllllllllll}\n",
       " date & adj.close & pct.chg & up2cd & up3cd & up4cd & dn2cd & dn3cd & dn4cd & treasury\\_bond & cattle & coffee & copper & crude\\_oil & lumber & us\\_dollar & vix\\_adj\\_close\\\\\n",
       " <int> & <int> & <int> & <int> & <int> & <int> & <int> & <int> & <int> & <int> & <int> & <int> & <int> & <int> & <int> & <int> & <int>\\\\\n",
       "\\hline\n",
       "\t 0 & 0 & 0 & 0 & 0 & 0 & 0 & 0 & 0 & 34 & 20 & 22 & 36 & 17 & 28 & 0 & 0\\\\\n",
       "\\end{tabular}\n"
      ],
      "text/markdown": [
       "\n",
       "A tibble: 1 × 17\n",
       "\n",
       "| date &lt;int&gt; | adj.close &lt;int&gt; | pct.chg &lt;int&gt; | up2cd &lt;int&gt; | up3cd &lt;int&gt; | up4cd &lt;int&gt; | dn2cd &lt;int&gt; | dn3cd &lt;int&gt; | dn4cd &lt;int&gt; | treasury_bond &lt;int&gt; | cattle &lt;int&gt; | coffee &lt;int&gt; | copper &lt;int&gt; | crude_oil &lt;int&gt; | lumber &lt;int&gt; | us_dollar &lt;int&gt; | vix_adj_close &lt;int&gt; |\n",
       "|---|---|---|---|---|---|---|---|---|---|---|---|---|---|---|---|---|\n",
       "| 0 | 0 | 0 | 0 | 0 | 0 | 0 | 0 | 0 | 34 | 20 | 22 | 36 | 17 | 28 | 0 | 0 |\n",
       "\n"
      ],
      "text/plain": [
       "  date adj.close pct.chg up2cd up3cd up4cd dn2cd dn3cd dn4cd treasury_bond\n",
       "1 0    0         0       0     0     0     0     0     0     34           \n",
       "  cattle coffee copper crude_oil lumber us_dollar vix_adj_close\n",
       "1 20     22     36     17        28     0         0            "
      ]
     },
     "metadata": {},
     "output_type": "display_data"
    }
   ],
   "source": [
    "# Reading in all the files within the features folder and joining tables\n",
    "\n",
    "files <- list.files(path = \"features\", pattern = \"*.csv\", full.names = T)\n",
    "df_list <- map(files, read_csv)\n",
    "for(i in 1:length(df_list)){\n",
    "    df_list[[i]] <- df_list[[i]]  %>% mutate(date = mdy(date))\n",
    "}\n",
    "for(i in 2:length(df_list)){\n",
    "    df_list[[1]] <- full_join(df_list[[1]], df_list[[i]], by = \"date\") \n",
    "}\n",
    "\n",
    "features <- df_list[[1]] \n",
    "sp500_features <- left_join(sp500_20y, features, by = \"date\")\n",
    "\n",
    "# count missing in each column\n",
    "\n",
    "sp500_features %>% map_df(~sum(is.na(.)))"
   ]
  },
  {
   "cell_type": "code",
   "execution_count": 8,
   "metadata": {
    "scrolled": true
   },
   "outputs": [
    {
     "data": {
      "text/html": [
       "<table>\n",
       "<caption>A tibble: 6 × 15</caption>\n",
       "<thead>\n",
       "\t<tr><th scope=col>pct.chg</th><th scope=col>up2cd</th><th scope=col>up3cd</th><th scope=col>up4cd</th><th scope=col>dn2cd</th><th scope=col>dn3cd</th><th scope=col>dn4cd</th><th scope=col>treasury_bond</th><th scope=col>cattle</th><th scope=col>coffee</th><th scope=col>copper</th><th scope=col>crude_oil</th><th scope=col>lumber</th><th scope=col>us_dollar</th><th scope=col>vix_adj_close</th></tr>\n",
       "\t<tr><th scope=col>&lt;dbl&gt;</th><th scope=col>&lt;fct&gt;</th><th scope=col>&lt;fct&gt;</th><th scope=col>&lt;fct&gt;</th><th scope=col>&lt;fct&gt;</th><th scope=col>&lt;fct&gt;</th><th scope=col>&lt;fct&gt;</th><th scope=col>&lt;dbl&gt;</th><th scope=col>&lt;dbl&gt;</th><th scope=col>&lt;dbl&gt;</th><th scope=col>&lt;dbl&gt;</th><th scope=col>&lt;dbl&gt;</th><th scope=col>&lt;dbl&gt;</th><th scope=col>&lt;dbl&gt;</th><th scope=col>&lt;dbl&gt;</th></tr>\n",
       "</thead>\n",
       "<tbody>\n",
       "\t<tr><td>-0.005502808</td><td>0</td><td>0</td><td>0</td><td>0</td><td>0</td><td>0</td><td>5.98</td><td>64.67</td><td>1.0395</td><td>0.6325</td><td>18.550</td><td>383.1</td><td>101.90</td><td>25.91</td></tr>\n",
       "\t<tr><td>-0.021985703</td><td>0</td><td>0</td><td>0</td><td>1</td><td>0</td><td>0</td><td>5.94</td><td>64.72</td><td>1.0530</td><td>0.6295</td><td>17.940</td><td>384.7</td><td>102.50</td><td>22.40</td></tr>\n",
       "\t<tr><td>-0.007082611</td><td>0</td><td>0</td><td>0</td><td>1</td><td>1</td><td>0</td><td>5.79</td><td>64.00</td><td>1.0535</td><td>0.6325</td><td>18.234</td><td>394.7</td><td>102.18</td><td>21.95</td></tr>\n",
       "\t<tr><td>-0.002189347</td><td>0</td><td>0</td><td>0</td><td>1</td><td>1</td><td>1</td><td>5.84</td><td>63.87</td><td>1.0590</td><td>0.6540</td><td>18.066</td><td>404.7</td><td>102.00</td><td>21.75</td></tr>\n",
       "\t<tr><td>-0.004566371</td><td>0</td><td>0</td><td>0</td><td>1</td><td>1</td><td>1</td><td>5.90</td><td>63.52</td><td>1.0350</td><td>0.6600</td><td>17.826</td><td>400.4</td><td>102.55</td><td>21.81</td></tr>\n",
       "\t<tr><td> 0.009821238</td><td>0</td><td>0</td><td>0</td><td>0</td><td>0</td><td>0</td><td>5.94</td><td>63.70</td><td>1.0555</td><td>0.6640</td><td>17.722</td><td>398.1</td><td>102.69</td><td>21.70</td></tr>\n",
       "</tbody>\n",
       "</table>\n"
      ],
      "text/latex": [
       "A tibble: 6 × 15\n",
       "\\begin{tabular}{r|lllllllllllllll}\n",
       " pct.chg & up2cd & up3cd & up4cd & dn2cd & dn3cd & dn4cd & treasury\\_bond & cattle & coffee & copper & crude\\_oil & lumber & us\\_dollar & vix\\_adj\\_close\\\\\n",
       " <dbl> & <fct> & <fct> & <fct> & <fct> & <fct> & <fct> & <dbl> & <dbl> & <dbl> & <dbl> & <dbl> & <dbl> & <dbl> & <dbl>\\\\\n",
       "\\hline\n",
       "\t -0.005502808 & 0 & 0 & 0 & 0 & 0 & 0 & 5.98 & 64.67 & 1.0395 & 0.6325 & 18.550 & 383.1 & 101.90 & 25.91\\\\\n",
       "\t -0.021985703 & 0 & 0 & 0 & 1 & 0 & 0 & 5.94 & 64.72 & 1.0530 & 0.6295 & 17.940 & 384.7 & 102.50 & 22.40\\\\\n",
       "\t -0.007082611 & 0 & 0 & 0 & 1 & 1 & 0 & 5.79 & 64.00 & 1.0535 & 0.6325 & 18.234 & 394.7 & 102.18 & 21.95\\\\\n",
       "\t -0.002189347 & 0 & 0 & 0 & 1 & 1 & 1 & 5.84 & 63.87 & 1.0590 & 0.6540 & 18.066 & 404.7 & 102.00 & 21.75\\\\\n",
       "\t -0.004566371 & 0 & 0 & 0 & 1 & 1 & 1 & 5.90 & 63.52 & 1.0350 & 0.6600 & 17.826 & 400.4 & 102.55 & 21.81\\\\\n",
       "\t  0.009821238 & 0 & 0 & 0 & 0 & 0 & 0 & 5.94 & 63.70 & 1.0555 & 0.6640 & 17.722 & 398.1 & 102.69 & 21.70\\\\\n",
       "\\end{tabular}\n"
      ],
      "text/markdown": [
       "\n",
       "A tibble: 6 × 15\n",
       "\n",
       "| pct.chg &lt;dbl&gt; | up2cd &lt;fct&gt; | up3cd &lt;fct&gt; | up4cd &lt;fct&gt; | dn2cd &lt;fct&gt; | dn3cd &lt;fct&gt; | dn4cd &lt;fct&gt; | treasury_bond &lt;dbl&gt; | cattle &lt;dbl&gt; | coffee &lt;dbl&gt; | copper &lt;dbl&gt; | crude_oil &lt;dbl&gt; | lumber &lt;dbl&gt; | us_dollar &lt;dbl&gt; | vix_adj_close &lt;dbl&gt; |\n",
       "|---|---|---|---|---|---|---|---|---|---|---|---|---|---|---|\n",
       "| -0.005502808 | 0 | 0 | 0 | 0 | 0 | 0 | 5.98 | 64.67 | 1.0395 | 0.6325 | 18.550 | 383.1 | 101.90 | 25.91 |\n",
       "| -0.021985703 | 0 | 0 | 0 | 1 | 0 | 0 | 5.94 | 64.72 | 1.0530 | 0.6295 | 17.940 | 384.7 | 102.50 | 22.40 |\n",
       "| -0.007082611 | 0 | 0 | 0 | 1 | 1 | 0 | 5.79 | 64.00 | 1.0535 | 0.6325 | 18.234 | 394.7 | 102.18 | 21.95 |\n",
       "| -0.002189347 | 0 | 0 | 0 | 1 | 1 | 1 | 5.84 | 63.87 | 1.0590 | 0.6540 | 18.066 | 404.7 | 102.00 | 21.75 |\n",
       "| -0.004566371 | 0 | 0 | 0 | 1 | 1 | 1 | 5.90 | 63.52 | 1.0350 | 0.6600 | 17.826 | 400.4 | 102.55 | 21.81 |\n",
       "|  0.009821238 | 0 | 0 | 0 | 0 | 0 | 0 | 5.94 | 63.70 | 1.0555 | 0.6640 | 17.722 | 398.1 | 102.69 | 21.70 |\n",
       "\n"
      ],
      "text/plain": [
       "  pct.chg      up2cd up3cd up4cd dn2cd dn3cd dn4cd treasury_bond cattle coffee\n",
       "1 -0.005502808 0     0     0     0     0     0     5.98          64.67  1.0395\n",
       "2 -0.021985703 0     0     0     1     0     0     5.94          64.72  1.0530\n",
       "3 -0.007082611 0     0     0     1     1     0     5.79          64.00  1.0535\n",
       "4 -0.002189347 0     0     0     1     1     1     5.84          63.87  1.0590\n",
       "5 -0.004566371 0     0     0     1     1     1     5.90          63.52  1.0350\n",
       "6  0.009821238 0     0     0     0     0     0     5.94          63.70  1.0555\n",
       "  copper crude_oil lumber us_dollar vix_adj_close\n",
       "1 0.6325 18.550    383.1  101.90    25.91        \n",
       "2 0.6295 17.940    384.7  102.50    22.40        \n",
       "3 0.6325 18.234    394.7  102.18    21.95        \n",
       "4 0.6540 18.066    404.7  102.00    21.75        \n",
       "5 0.6600 17.826    400.4  102.55    21.81        \n",
       "6 0.6640 17.722    398.1  102.69    21.70        "
      ]
     },
     "metadata": {},
     "output_type": "display_data"
    },
    {
     "data": {
      "text/html": [
       "<table>\n",
       "<caption>A tibble: 1 × 15</caption>\n",
       "<thead>\n",
       "\t<tr><th scope=col>pct.chg</th><th scope=col>up2cd</th><th scope=col>up3cd</th><th scope=col>up4cd</th><th scope=col>dn2cd</th><th scope=col>dn3cd</th><th scope=col>dn4cd</th><th scope=col>treasury_bond</th><th scope=col>cattle</th><th scope=col>coffee</th><th scope=col>copper</th><th scope=col>crude_oil</th><th scope=col>lumber</th><th scope=col>us_dollar</th><th scope=col>vix_adj_close</th></tr>\n",
       "\t<tr><th scope=col>&lt;int&gt;</th><th scope=col>&lt;int&gt;</th><th scope=col>&lt;int&gt;</th><th scope=col>&lt;int&gt;</th><th scope=col>&lt;int&gt;</th><th scope=col>&lt;int&gt;</th><th scope=col>&lt;int&gt;</th><th scope=col>&lt;int&gt;</th><th scope=col>&lt;int&gt;</th><th scope=col>&lt;int&gt;</th><th scope=col>&lt;int&gt;</th><th scope=col>&lt;int&gt;</th><th scope=col>&lt;int&gt;</th><th scope=col>&lt;int&gt;</th><th scope=col>&lt;int&gt;</th></tr>\n",
       "</thead>\n",
       "<tbody>\n",
       "\t<tr><td>0</td><td>0</td><td>0</td><td>0</td><td>0</td><td>0</td><td>0</td><td>0</td><td>0</td><td>0</td><td>0</td><td>0</td><td>0</td><td>0</td><td>0</td></tr>\n",
       "</tbody>\n",
       "</table>\n"
      ],
      "text/latex": [
       "A tibble: 1 × 15\n",
       "\\begin{tabular}{r|lllllllllllllll}\n",
       " pct.chg & up2cd & up3cd & up4cd & dn2cd & dn3cd & dn4cd & treasury\\_bond & cattle & coffee & copper & crude\\_oil & lumber & us\\_dollar & vix\\_adj\\_close\\\\\n",
       " <int> & <int> & <int> & <int> & <int> & <int> & <int> & <int> & <int> & <int> & <int> & <int> & <int> & <int> & <int>\\\\\n",
       "\\hline\n",
       "\t 0 & 0 & 0 & 0 & 0 & 0 & 0 & 0 & 0 & 0 & 0 & 0 & 0 & 0 & 0\\\\\n",
       "\\end{tabular}\n"
      ],
      "text/markdown": [
       "\n",
       "A tibble: 1 × 15\n",
       "\n",
       "| pct.chg &lt;int&gt; | up2cd &lt;int&gt; | up3cd &lt;int&gt; | up4cd &lt;int&gt; | dn2cd &lt;int&gt; | dn3cd &lt;int&gt; | dn4cd &lt;int&gt; | treasury_bond &lt;int&gt; | cattle &lt;int&gt; | coffee &lt;int&gt; | copper &lt;int&gt; | crude_oil &lt;int&gt; | lumber &lt;int&gt; | us_dollar &lt;int&gt; | vix_adj_close &lt;int&gt; |\n",
       "|---|---|---|---|---|---|---|---|---|---|---|---|---|---|---|\n",
       "| 0 | 0 | 0 | 0 | 0 | 0 | 0 | 0 | 0 | 0 | 0 | 0 | 0 | 0 | 0 |\n",
       "\n"
      ],
      "text/plain": [
       "  pct.chg up2cd up3cd up4cd dn2cd dn3cd dn4cd treasury_bond cattle coffee\n",
       "1 0       0     0     0     0     0     0     0             0      0     \n",
       "  copper crude_oil lumber us_dollar vix_adj_close\n",
       "1 0      0         0      0         0            "
      ]
     },
     "metadata": {},
     "output_type": "display_data"
    }
   ],
   "source": [
    "# impute missing values and cleaning up\n",
    "\n",
    "pchg <- function(x){(lag(x) - x) / (x)}\n",
    "\n",
    "sp500_features <- sp500_features %>% \n",
    "    # impute missing values linearly\n",
    "    map_dfc(~na.approx(.)) %>% \n",
    "    # make factors\n",
    "    mutate_at(c(4:9), as.factor) %>% \n",
    "    # drop unused columns\n",
    "    select(-c(1:2)) %>%\n",
    "    # drop rows with NAs due to day pct change\n",
    "    drop_na()\n",
    "head(sp500_features)\n",
    "# count missing in each column\n",
    "sp500_features %>% map_df(~sum(is.na(.)))"
   ]
  },
  {
   "cell_type": "code",
   "execution_count": 9,
   "metadata": {},
   "outputs": [
    {
     "data": {
      "text/html": [
       "<table>\n",
       "<caption>A matrix: 8 × 8 of type dbl</caption>\n",
       "<thead>\n",
       "\t<tr><th></th><th scope=col>treasury_bond</th><th scope=col>cattle</th><th scope=col>coffee</th><th scope=col>copper</th><th scope=col>crude_oil</th><th scope=col>lumber</th><th scope=col>us_dollar</th><th scope=col>vix_adj_close</th></tr>\n",
       "</thead>\n",
       "<tbody>\n",
       "\t<tr><th scope=row>treasury_bond</th><td> 1.00000000</td><td>-0.7986127</td><td>-0.54874436</td><td>-0.5713150</td><td>-0.45559606</td><td>-0.09507288</td><td> 0.40147518</td><td> 0.1410227</td></tr>\n",
       "\t<tr><th scope=row>cattle</th><td>-0.79861269</td><td> 1.0000000</td><td> 0.59203572</td><td> 0.6324710</td><td> 0.52904421</td><td> 0.22559238</td><td>-0.38233500</td><td>-0.3471870</td></tr>\n",
       "\t<tr><th scope=row>coffee</th><td>-0.54874436</td><td> 0.5920357</td><td> 1.00000000</td><td> 0.7748369</td><td> 0.70455457</td><td>-0.06279907</td><td>-0.64771351</td><td>-0.1044770</td></tr>\n",
       "\t<tr><th scope=row>copper</th><td>-0.57131502</td><td> 0.6324710</td><td> 0.77483693</td><td> 1.0000000</td><td> 0.87498539</td><td> 0.04437540</td><td>-0.77140466</td><td>-0.2694983</td></tr>\n",
       "\t<tr><th scope=row>crude_oil</th><td>-0.45559606</td><td> 0.5290442</td><td> 0.70455457</td><td> 0.8749854</td><td> 1.00000000</td><td>-0.02649801</td><td>-0.82485426</td><td>-0.1655707</td></tr>\n",
       "\t<tr><th scope=row>lumber</th><td>-0.09507288</td><td> 0.2255924</td><td>-0.06279907</td><td> 0.0443754</td><td>-0.02649801</td><td> 1.00000000</td><td> 0.06717727</td><td>-0.5547478</td></tr>\n",
       "\t<tr><th scope=row>us_dollar</th><td> 0.40147518</td><td>-0.3823350</td><td>-0.64771351</td><td>-0.7714047</td><td>-0.82485426</td><td> 0.06717727</td><td> 1.00000000</td><td> 0.1075843</td></tr>\n",
       "\t<tr><th scope=row>vix_adj_close</th><td> 0.14102269</td><td>-0.3471870</td><td>-0.10447699</td><td>-0.2694983</td><td>-0.16557067</td><td>-0.55474778</td><td> 0.10758434</td><td> 1.0000000</td></tr>\n",
       "</tbody>\n",
       "</table>\n"
      ],
      "text/latex": [
       "A matrix: 8 × 8 of type dbl\n",
       "\\begin{tabular}{r|llllllll}\n",
       "  & treasury\\_bond & cattle & coffee & copper & crude\\_oil & lumber & us\\_dollar & vix\\_adj\\_close\\\\\n",
       "\\hline\n",
       "\ttreasury\\_bond &  1.00000000 & -0.7986127 & -0.54874436 & -0.5713150 & -0.45559606 & -0.09507288 &  0.40147518 &  0.1410227\\\\\n",
       "\tcattle & -0.79861269 &  1.0000000 &  0.59203572 &  0.6324710 &  0.52904421 &  0.22559238 & -0.38233500 & -0.3471870\\\\\n",
       "\tcoffee & -0.54874436 &  0.5920357 &  1.00000000 &  0.7748369 &  0.70455457 & -0.06279907 & -0.64771351 & -0.1044770\\\\\n",
       "\tcopper & -0.57131502 &  0.6324710 &  0.77483693 &  1.0000000 &  0.87498539 &  0.04437540 & -0.77140466 & -0.2694983\\\\\n",
       "\tcrude\\_oil & -0.45559606 &  0.5290442 &  0.70455457 &  0.8749854 &  1.00000000 & -0.02649801 & -0.82485426 & -0.1655707\\\\\n",
       "\tlumber & -0.09507288 &  0.2255924 & -0.06279907 &  0.0443754 & -0.02649801 &  1.00000000 &  0.06717727 & -0.5547478\\\\\n",
       "\tus\\_dollar &  0.40147518 & -0.3823350 & -0.64771351 & -0.7714047 & -0.82485426 &  0.06717727 &  1.00000000 &  0.1075843\\\\\n",
       "\tvix\\_adj\\_close &  0.14102269 & -0.3471870 & -0.10447699 & -0.2694983 & -0.16557067 & -0.55474778 &  0.10758434 &  1.0000000\\\\\n",
       "\\end{tabular}\n"
      ],
      "text/markdown": [
       "\n",
       "A matrix: 8 × 8 of type dbl\n",
       "\n",
       "| <!--/--> | treasury_bond | cattle | coffee | copper | crude_oil | lumber | us_dollar | vix_adj_close |\n",
       "|---|---|---|---|---|---|---|---|---|\n",
       "| treasury_bond |  1.00000000 | -0.7986127 | -0.54874436 | -0.5713150 | -0.45559606 | -0.09507288 |  0.40147518 |  0.1410227 |\n",
       "| cattle | -0.79861269 |  1.0000000 |  0.59203572 |  0.6324710 |  0.52904421 |  0.22559238 | -0.38233500 | -0.3471870 |\n",
       "| coffee | -0.54874436 |  0.5920357 |  1.00000000 |  0.7748369 |  0.70455457 | -0.06279907 | -0.64771351 | -0.1044770 |\n",
       "| copper | -0.57131502 |  0.6324710 |  0.77483693 |  1.0000000 |  0.87498539 |  0.04437540 | -0.77140466 | -0.2694983 |\n",
       "| crude_oil | -0.45559606 |  0.5290442 |  0.70455457 |  0.8749854 |  1.00000000 | -0.02649801 | -0.82485426 | -0.1655707 |\n",
       "| lumber | -0.09507288 |  0.2255924 | -0.06279907 |  0.0443754 | -0.02649801 |  1.00000000 |  0.06717727 | -0.5547478 |\n",
       "| us_dollar |  0.40147518 | -0.3823350 | -0.64771351 | -0.7714047 | -0.82485426 |  0.06717727 |  1.00000000 |  0.1075843 |\n",
       "| vix_adj_close |  0.14102269 | -0.3471870 | -0.10447699 | -0.2694983 | -0.16557067 | -0.55474778 |  0.10758434 |  1.0000000 |\n",
       "\n"
      ],
      "text/plain": [
       "              treasury_bond cattle     coffee      copper     crude_oil  \n",
       "treasury_bond  1.00000000   -0.7986127 -0.54874436 -0.5713150 -0.45559606\n",
       "cattle        -0.79861269    1.0000000  0.59203572  0.6324710  0.52904421\n",
       "coffee        -0.54874436    0.5920357  1.00000000  0.7748369  0.70455457\n",
       "copper        -0.57131502    0.6324710  0.77483693  1.0000000  0.87498539\n",
       "crude_oil     -0.45559606    0.5290442  0.70455457  0.8749854  1.00000000\n",
       "lumber        -0.09507288    0.2255924 -0.06279907  0.0443754 -0.02649801\n",
       "us_dollar      0.40147518   -0.3823350 -0.64771351 -0.7714047 -0.82485426\n",
       "vix_adj_close  0.14102269   -0.3471870 -0.10447699 -0.2694983 -0.16557067\n",
       "              lumber      us_dollar   vix_adj_close\n",
       "treasury_bond -0.09507288  0.40147518  0.1410227   \n",
       "cattle         0.22559238 -0.38233500 -0.3471870   \n",
       "coffee        -0.06279907 -0.64771351 -0.1044770   \n",
       "copper         0.04437540 -0.77140466 -0.2694983   \n",
       "crude_oil     -0.02649801 -0.82485426 -0.1655707   \n",
       "lumber         1.00000000  0.06717727 -0.5547478   \n",
       "us_dollar      0.06717727  1.00000000  0.1075843   \n",
       "vix_adj_close -0.55474778  0.10758434  1.0000000   "
      ]
     },
     "metadata": {},
     "output_type": "display_data"
    }
   ],
   "source": [
    "# checking correlation between the features\n",
    "\n",
    "(sp500_features_cor <- cor(sp500_features[-c(1:7)], use = \"complete.obs\"))"
   ]
  },
  {
   "cell_type": "code",
   "execution_count": 10,
   "metadata": {},
   "outputs": [
    {
     "name": "stderr",
     "output_type": "stream",
     "text": [
      "Warning message:\n",
      "\"package 'ggcorrplot' was built under R version 3.5.3\""
     ]
    },
    {
     "data": {
      "image/png": "[encoded data removed]",
      "text/plain": [
       "plot without title"
      ]
     },
     "metadata": {},
     "output_type": "display_data"
    }
   ],
   "source": [
    "library(ggcorrplot)\n",
    "ggcorrplot(sp500_features_cor)"
   ]
  },
  {
   "cell_type": "code",
   "execution_count": 12,
   "metadata": {},
   "outputs": [
    {
     "data": {
      "image/png": "[encoded data removed]",
      "text/plain": [
       "plot without title"
      ]
     },
     "metadata": {},
     "output_type": "display_data"
    }
   ],
   "source": [
    "# hierarchical clustering on the correlation matrix\n",
    "\n",
    "cor_clust <- ggcorrplot(sp500_features_cor, hc.order = TRUE, type = \"lower\")\n",
    "cor_clust"
   ]
  },
  {
   "cell_type": "code",
   "execution_count": 13,
   "metadata": {},
   "outputs": [
    {
     "data": {
      "text/plain": [
       "Standard deviations (1, .., p=8):\n",
       "[1] 2.0655447 1.2751701 0.9481567 0.6530746 0.5706768 0.4625475 0.3834322\n",
       "[8] 0.3087333\n",
       "\n",
       "Rotation (n x k) = (8 x 8):\n",
       "                      PC1         PC2         PC3         PC4         PC5\n",
       "treasury_bond -0.35598328  0.08491205 -0.62317548  0.08528642 -0.32263594\n",
       "cattle         0.38212585 -0.22403786  0.46759719  0.12245115  0.03349426\n",
       "coffee         0.40874055  0.15423913  0.02599982  0.04554149 -0.83391448\n",
       "copper         0.45175143  0.05994080 -0.17328277  0.03400607 -0.02448049\n",
       "crude_oil      0.42575230  0.15723938 -0.30216813 -0.08539729  0.17825044\n",
       "lumber         0.04890698 -0.68093071 -0.14927718 -0.69913574 -0.14911633\n",
       "us_dollar     -0.38762729 -0.21646515  0.38721213  0.20225874 -0.37328649\n",
       "vix_adj_close -0.14898226  0.61641411  0.31429252 -0.66144495 -0.07361951\n",
       "                       PC6         PC7          PC8\n",
       "treasury_bond  0.386882145 -0.41271712 -0.215260839\n",
       "cattle         0.392132793 -0.61550790 -0.190802224\n",
       "coffee        -0.287939862 -0.05178509  0.159333041\n",
       "copper         0.284985737  0.51377984 -0.644483143\n",
       "crude_oil      0.480215346  0.07346634  0.653938213\n",
       "lumber         0.009734616  0.02302614  0.002522336\n",
       "us_dollar      0.511082907  0.41921458  0.189094371\n",
       "vix_adj_close  0.201297204 -0.04994816 -0.114514252"
      ]
     },
     "metadata": {},
     "output_type": "display_data"
    }
   ],
   "source": [
    "# perform principal component analysis (PCA) with standardizing\n",
    "\n",
    "(sp500_features_pca <- prcomp(sp500_features[-c(1:7)], scale = T))"
   ]
  },
  {
   "cell_type": "code",
   "execution_count": 14,
   "metadata": {},
   "outputs": [
    {
     "name": "stderr",
     "output_type": "stream",
     "text": [
      "Warning message:\n",
      "\"package 'FactoMineR' was built under R version 3.5.3\""
     ]
    },
    {
     "data": {
      "text/html": [
       "<table>\n",
       "<caption>A matrix: 8 × 3 of type dbl</caption>\n",
       "<thead>\n",
       "\t<tr><th></th><th scope=col>eigenvalue</th><th scope=col>percentage of variance</th><th scope=col>cumulative percentage of variance</th></tr>\n",
       "</thead>\n",
       "<tbody>\n",
       "\t<tr><th scope=row>comp 1</th><td>4.26647482</td><td>53.330935</td><td> 53.33094</td></tr>\n",
       "\t<tr><th scope=row>comp 2</th><td>1.62605881</td><td>20.325735</td><td> 73.65667</td></tr>\n",
       "\t<tr><th scope=row>comp 3</th><td>0.89900116</td><td>11.237515</td><td> 84.89418</td></tr>\n",
       "\t<tr><th scope=row>comp 4</th><td>0.42650643</td><td> 5.331330</td><td> 90.22552</td></tr>\n",
       "\t<tr><th scope=row>comp 5</th><td>0.32567205</td><td> 4.070901</td><td> 94.29642</td></tr>\n",
       "\t<tr><th scope=row>comp 6</th><td>0.21395022</td><td> 2.674378</td><td> 96.97079</td></tr>\n",
       "\t<tr><th scope=row>comp 7</th><td>0.14702023</td><td> 1.837753</td><td> 98.80855</td></tr>\n",
       "\t<tr><th scope=row>comp 8</th><td>0.09531627</td><td> 1.191453</td><td>100.00000</td></tr>\n",
       "</tbody>\n",
       "</table>\n"
      ],
      "text/latex": [
       "A matrix: 8 × 3 of type dbl\n",
       "\\begin{tabular}{r|lll}\n",
       "  & eigenvalue & percentage of variance & cumulative percentage of variance\\\\\n",
       "\\hline\n",
       "\tcomp 1 & 4.26647482 & 53.330935 &  53.33094\\\\\n",
       "\tcomp 2 & 1.62605881 & 20.325735 &  73.65667\\\\\n",
       "\tcomp 3 & 0.89900116 & 11.237515 &  84.89418\\\\\n",
       "\tcomp 4 & 0.42650643 &  5.331330 &  90.22552\\\\\n",
       "\tcomp 5 & 0.32567205 &  4.070901 &  94.29642\\\\\n",
       "\tcomp 6 & 0.21395022 &  2.674378 &  96.97079\\\\\n",
       "\tcomp 7 & 0.14702023 &  1.837753 &  98.80855\\\\\n",
       "\tcomp 8 & 0.09531627 &  1.191453 & 100.00000\\\\\n",
       "\\end{tabular}\n"
      ],
      "text/markdown": [
       "\n",
       "A matrix: 8 × 3 of type dbl\n",
       "\n",
       "| <!--/--> | eigenvalue | percentage of variance | cumulative percentage of variance |\n",
       "|---|---|---|---|\n",
       "| comp 1 | 4.26647482 | 53.330935 |  53.33094 |\n",
       "| comp 2 | 1.62605881 | 20.325735 |  73.65667 |\n",
       "| comp 3 | 0.89900116 | 11.237515 |  84.89418 |\n",
       "| comp 4 | 0.42650643 |  5.331330 |  90.22552 |\n",
       "| comp 5 | 0.32567205 |  4.070901 |  94.29642 |\n",
       "| comp 6 | 0.21395022 |  2.674378 |  96.97079 |\n",
       "| comp 7 | 0.14702023 |  1.837753 |  98.80855 |\n",
       "| comp 8 | 0.09531627 |  1.191453 | 100.00000 |\n",
       "\n"
      ],
      "text/plain": [
       "       eigenvalue percentage of variance cumulative percentage of variance\n",
       "comp 1 4.26647482 53.330935               53.33094                        \n",
       "comp 2 1.62605881 20.325735               73.65667                        \n",
       "comp 3 0.89900116 11.237515               84.89418                        \n",
       "comp 4 0.42650643  5.331330               90.22552                        \n",
       "comp 5 0.32567205  4.070901               94.29642                        \n",
       "comp 6 0.21395022  2.674378               96.97079                        \n",
       "comp 7 0.14702023  1.837753               98.80855                        \n",
       "comp 8 0.09531627  1.191453              100.00000                        "
      ]
     },
     "metadata": {},
     "output_type": "display_data"
    }
   ],
   "source": [
    "library(FactoMineR)\n",
    "sp500_features_pca_out <- PCA(sp500_features[-c(1:7)], scale.unit = T, ncp = 3, graph = F)\n",
    "sp500_features_pca_out$eig"
   ]
  },
  {
   "cell_type": "code",
   "execution_count": 15,
   "metadata": {
    "scrolled": false
   },
   "outputs": [
    {
     "name": "stdout",
     "output_type": "stream",
     "text": [
      "\n",
      "Call:\n",
      "PCA(X = sp500_features[-c(1:7)], scale.unit = T, ncp = 3, graph = F) \n",
      "\n",
      "\n",
      "Eigenvalues\n",
      "                       Dim.1   Dim.2   Dim.3   Dim.4   Dim.5   Dim.6   Dim.7\n",
      "Variance               4.266   1.626   0.899   0.427   0.326   0.214   0.147\n",
      "% of var.             53.331  20.326  11.238   5.331   4.071   2.674   1.838\n",
      "Cumulative % of var.  53.331  73.657  84.894  90.226  94.296  96.971  98.809\n",
      "                       Dim.8\n",
      "Variance               0.095\n",
      "% of var.              1.191\n",
      "Cumulative % of var. 100.000\n",
      "\n",
      "Individuals (the 10 first)\n",
      "                  Dist    Dim.1    ctr   cos2    Dim.2    ctr   cos2    Dim.3\n",
      "1             |  3.688 | -3.188  0.047  0.747 |  0.454  0.003  0.015 |  0.706\n",
      "2             |  3.640 | -3.132  0.046  0.740 |  0.739  0.007  0.041 |  0.791\n",
      "3             |  3.623 | -3.070  0.044  0.718 |  0.863  0.009  0.057 |  0.784\n",
      "4             |  3.685 | -3.058  0.044  0.689 |  0.962  0.011  0.068 |  0.846\n",
      "5             |  3.710 | -3.124  0.045  0.709 |  0.929  0.011  0.063 |  0.852\n",
      "6             |  3.709 | -3.120  0.045  0.707 |  0.910  0.010  0.060 |  0.861\n",
      "7             |  3.764 | -3.122  0.045  0.688 |  0.997  0.012  0.070 |  0.929\n",
      "8             |  3.835 | -3.166  0.047  0.682 |  0.925  0.010  0.058 |  0.928\n",
      "9             |  3.794 | -3.126  0.046  0.679 |  1.028  0.013  0.073 |  0.972\n",
      "10            |  3.776 | -3.174  0.047  0.707 |  0.905  0.010  0.057 |  0.903\n",
      "                 ctr   cos2  \n",
      "1              0.011  0.037 |\n",
      "2              0.014  0.047 |\n",
      "3              0.014  0.047 |\n",
      "4              0.016  0.053 |\n",
      "5              0.016  0.053 |\n",
      "6              0.016  0.054 |\n",
      "7              0.019  0.061 |\n",
      "8              0.019  0.059 |\n",
      "9              0.021  0.066 |\n",
      "10             0.018  0.057 |\n",
      "\n",
      "Variables\n",
      "                 Dim.1    ctr   cos2    Dim.2    ctr   cos2    Dim.3    ctr\n",
      "treasury_bond | -0.735 12.672  0.541 | -0.108  0.721  0.012 |  0.591 38.835\n",
      "cattle        |  0.789 14.602  0.623 |  0.286  5.019  0.082 | -0.443 21.865\n",
      "coffee        |  0.844 16.707  0.713 | -0.197  2.379  0.039 | -0.025  0.068\n",
      "copper        |  0.933 20.408  0.871 | -0.076  0.359  0.006 |  0.164  3.003\n",
      "crude_oil     |  0.879 18.127  0.773 | -0.201  2.472  0.040 |  0.287  9.131\n",
      "lumber        |  0.101  0.239  0.010 |  0.868 46.367  0.754 |  0.142  2.228\n",
      "us_dollar     | -0.801 15.025  0.641 |  0.276  4.686  0.076 | -0.367 14.993\n",
      "vix_adj_close | -0.308  2.220  0.095 | -0.786 37.997  0.618 | -0.298  9.878\n",
      "                cos2  \n",
      "treasury_bond  0.349 |\n",
      "cattle         0.197 |\n",
      "coffee         0.001 |\n",
      "copper         0.027 |\n",
      "crude_oil      0.082 |\n",
      "lumber         0.020 |\n",
      "us_dollar      0.135 |\n",
      "vix_adj_close  0.089 |\n"
     ]
    }
   ],
   "source": [
    "summary(sp500_features_pca_out)"
   ]
  },
  {
   "cell_type": "code",
   "execution_count": 16,
   "metadata": {
    "scrolled": true
   },
   "outputs": [
    {
     "data": {
      "text/html": [
       "<table>\n",
       "<caption>A matrix: 3 × 3 of type dbl</caption>\n",
       "<thead>\n",
       "\t<tr><th></th><th scope=col>eigenvalue</th><th scope=col>percentage of variance</th><th scope=col>cumulative percentage of variance</th></tr>\n",
       "</thead>\n",
       "<tbody>\n",
       "\t<tr><th scope=row>comp 1</th><td>4.2664748</td><td>53.33094</td><td>53.33094</td></tr>\n",
       "\t<tr><th scope=row>comp 2</th><td>1.6260588</td><td>20.32574</td><td>73.65667</td></tr>\n",
       "\t<tr><th scope=row>comp 3</th><td>0.8990012</td><td>11.23751</td><td>84.89418</td></tr>\n",
       "</tbody>\n",
       "</table>\n"
      ],
      "text/latex": [
       "A matrix: 3 × 3 of type dbl\n",
       "\\begin{tabular}{r|lll}\n",
       "  & eigenvalue & percentage of variance & cumulative percentage of variance\\\\\n",
       "\\hline\n",
       "\tcomp 1 & 4.2664748 & 53.33094 & 53.33094\\\\\n",
       "\tcomp 2 & 1.6260588 & 20.32574 & 73.65667\\\\\n",
       "\tcomp 3 & 0.8990012 & 11.23751 & 84.89418\\\\\n",
       "\\end{tabular}\n"
      ],
      "text/markdown": [
       "\n",
       "A matrix: 3 × 3 of type dbl\n",
       "\n",
       "| <!--/--> | eigenvalue | percentage of variance | cumulative percentage of variance |\n",
       "|---|---|---|---|\n",
       "| comp 1 | 4.2664748 | 53.33094 | 53.33094 |\n",
       "| comp 2 | 1.6260588 | 20.32574 | 73.65667 |\n",
       "| comp 3 | 0.8990012 | 11.23751 | 84.89418 |\n",
       "\n"
      ],
      "text/plain": [
       "       eigenvalue percentage of variance cumulative percentage of variance\n",
       "comp 1 4.2664748  53.33094               53.33094                         \n",
       "comp 2 1.6260588  20.32574               73.65667                         \n",
       "comp 3 0.8990012  11.23751               84.89418                         "
      ]
     },
     "metadata": {},
     "output_type": "display_data"
    }
   ],
   "source": [
    "sp500_features_pca_out$eig[1:3,]\n",
    "# variance = pc.vector * cor.matrix * pc.vector.transpose"
   ]
  },
  {
   "cell_type": "code",
   "execution_count": 17,
   "metadata": {},
   "outputs": [
    {
     "data": {
      "text/html": [
       "<table>\n",
       "<caption>A tibble: 6 × 15</caption>\n",
       "<thead>\n",
       "\t<tr><th scope=col>pct.chg</th><th scope=col>up2cd</th><th scope=col>up3cd</th><th scope=col>up4cd</th><th scope=col>dn2cd</th><th scope=col>dn3cd</th><th scope=col>dn4cd</th><th scope=col>treasury_bond</th><th scope=col>cattle</th><th scope=col>coffee</th><th scope=col>copper</th><th scope=col>crude_oil</th><th scope=col>lumber</th><th scope=col>us_dollar</th><th scope=col>vix_adj_close</th></tr>\n",
       "\t<tr><th scope=col>&lt;dbl&gt;</th><th scope=col>&lt;fct&gt;</th><th scope=col>&lt;fct&gt;</th><th scope=col>&lt;fct&gt;</th><th scope=col>&lt;fct&gt;</th><th scope=col>&lt;fct&gt;</th><th scope=col>&lt;fct&gt;</th><th scope=col>&lt;dbl&gt;</th><th scope=col>&lt;dbl&gt;</th><th scope=col>&lt;dbl&gt;</th><th scope=col>&lt;dbl&gt;</th><th scope=col>&lt;dbl&gt;</th><th scope=col>&lt;dbl&gt;</th><th scope=col>&lt;dbl&gt;</th><th scope=col>&lt;dbl&gt;</th></tr>\n",
       "</thead>\n",
       "<tbody>\n",
       "\t<tr><td>-0.005502808</td><td>0</td><td>0</td><td>0</td><td>0</td><td>0</td><td>0</td><td>5.98</td><td>64.67</td><td>1.0395</td><td>0.6325</td><td>18.550</td><td>383.1</td><td>101.90</td><td>25.91</td></tr>\n",
       "\t<tr><td>-0.021985703</td><td>0</td><td>0</td><td>0</td><td>1</td><td>0</td><td>0</td><td>5.94</td><td>64.72</td><td>1.0530</td><td>0.6295</td><td>17.940</td><td>384.7</td><td>102.50</td><td>22.40</td></tr>\n",
       "\t<tr><td>-0.007082611</td><td>0</td><td>0</td><td>0</td><td>1</td><td>1</td><td>0</td><td>5.79</td><td>64.00</td><td>1.0535</td><td>0.6325</td><td>18.234</td><td>394.7</td><td>102.18</td><td>21.95</td></tr>\n",
       "\t<tr><td>-0.002189347</td><td>0</td><td>0</td><td>0</td><td>1</td><td>1</td><td>1</td><td>5.84</td><td>63.87</td><td>1.0590</td><td>0.6540</td><td>18.066</td><td>404.7</td><td>102.00</td><td>21.75</td></tr>\n",
       "\t<tr><td>-0.004566371</td><td>0</td><td>0</td><td>0</td><td>1</td><td>1</td><td>1</td><td>5.90</td><td>63.52</td><td>1.0350</td><td>0.6600</td><td>17.826</td><td>400.4</td><td>102.55</td><td>21.81</td></tr>\n",
       "\t<tr><td> 0.009821238</td><td>0</td><td>0</td><td>0</td><td>0</td><td>0</td><td>0</td><td>5.94</td><td>63.70</td><td>1.0555</td><td>0.6640</td><td>17.722</td><td>398.1</td><td>102.69</td><td>21.70</td></tr>\n",
       "</tbody>\n",
       "</table>\n"
      ],
      "text/latex": [
       "A tibble: 6 × 15\n",
       "\\begin{tabular}{r|lllllllllllllll}\n",
       " pct.chg & up2cd & up3cd & up4cd & dn2cd & dn3cd & dn4cd & treasury\\_bond & cattle & coffee & copper & crude\\_oil & lumber & us\\_dollar & vix\\_adj\\_close\\\\\n",
       " <dbl> & <fct> & <fct> & <fct> & <fct> & <fct> & <fct> & <dbl> & <dbl> & <dbl> & <dbl> & <dbl> & <dbl> & <dbl> & <dbl>\\\\\n",
       "\\hline\n",
       "\t -0.005502808 & 0 & 0 & 0 & 0 & 0 & 0 & 5.98 & 64.67 & 1.0395 & 0.6325 & 18.550 & 383.1 & 101.90 & 25.91\\\\\n",
       "\t -0.021985703 & 0 & 0 & 0 & 1 & 0 & 0 & 5.94 & 64.72 & 1.0530 & 0.6295 & 17.940 & 384.7 & 102.50 & 22.40\\\\\n",
       "\t -0.007082611 & 0 & 0 & 0 & 1 & 1 & 0 & 5.79 & 64.00 & 1.0535 & 0.6325 & 18.234 & 394.7 & 102.18 & 21.95\\\\\n",
       "\t -0.002189347 & 0 & 0 & 0 & 1 & 1 & 1 & 5.84 & 63.87 & 1.0590 & 0.6540 & 18.066 & 404.7 & 102.00 & 21.75\\\\\n",
       "\t -0.004566371 & 0 & 0 & 0 & 1 & 1 & 1 & 5.90 & 63.52 & 1.0350 & 0.6600 & 17.826 & 400.4 & 102.55 & 21.81\\\\\n",
       "\t  0.009821238 & 0 & 0 & 0 & 0 & 0 & 0 & 5.94 & 63.70 & 1.0555 & 0.6640 & 17.722 & 398.1 & 102.69 & 21.70\\\\\n",
       "\\end{tabular}\n"
      ],
      "text/markdown": [
       "\n",
       "A tibble: 6 × 15\n",
       "\n",
       "| pct.chg &lt;dbl&gt; | up2cd &lt;fct&gt; | up3cd &lt;fct&gt; | up4cd &lt;fct&gt; | dn2cd &lt;fct&gt; | dn3cd &lt;fct&gt; | dn4cd &lt;fct&gt; | treasury_bond &lt;dbl&gt; | cattle &lt;dbl&gt; | coffee &lt;dbl&gt; | copper &lt;dbl&gt; | crude_oil &lt;dbl&gt; | lumber &lt;dbl&gt; | us_dollar &lt;dbl&gt; | vix_adj_close &lt;dbl&gt; |\n",
       "|---|---|---|---|---|---|---|---|---|---|---|---|---|---|---|\n",
       "| -0.005502808 | 0 | 0 | 0 | 0 | 0 | 0 | 5.98 | 64.67 | 1.0395 | 0.6325 | 18.550 | 383.1 | 101.90 | 25.91 |\n",
       "| -0.021985703 | 0 | 0 | 0 | 1 | 0 | 0 | 5.94 | 64.72 | 1.0530 | 0.6295 | 17.940 | 384.7 | 102.50 | 22.40 |\n",
       "| -0.007082611 | 0 | 0 | 0 | 1 | 1 | 0 | 5.79 | 64.00 | 1.0535 | 0.6325 | 18.234 | 394.7 | 102.18 | 21.95 |\n",
       "| -0.002189347 | 0 | 0 | 0 | 1 | 1 | 1 | 5.84 | 63.87 | 1.0590 | 0.6540 | 18.066 | 404.7 | 102.00 | 21.75 |\n",
       "| -0.004566371 | 0 | 0 | 0 | 1 | 1 | 1 | 5.90 | 63.52 | 1.0350 | 0.6600 | 17.826 | 400.4 | 102.55 | 21.81 |\n",
       "|  0.009821238 | 0 | 0 | 0 | 0 | 0 | 0 | 5.94 | 63.70 | 1.0555 | 0.6640 | 17.722 | 398.1 | 102.69 | 21.70 |\n",
       "\n"
      ],
      "text/plain": [
       "  pct.chg      up2cd up3cd up4cd dn2cd dn3cd dn4cd treasury_bond cattle coffee\n",
       "1 -0.005502808 0     0     0     0     0     0     5.98          64.67  1.0395\n",
       "2 -0.021985703 0     0     0     1     0     0     5.94          64.72  1.0530\n",
       "3 -0.007082611 0     0     0     1     1     0     5.79          64.00  1.0535\n",
       "4 -0.002189347 0     0     0     1     1     1     5.84          63.87  1.0590\n",
       "5 -0.004566371 0     0     0     1     1     1     5.90          63.52  1.0350\n",
       "6  0.009821238 0     0     0     0     0     0     5.94          63.70  1.0555\n",
       "  copper crude_oil lumber us_dollar vix_adj_close\n",
       "1 0.6325 18.550    383.1  101.90    25.91        \n",
       "2 0.6295 17.940    384.7  102.50    22.40        \n",
       "3 0.6325 18.234    394.7  102.18    21.95        \n",
       "4 0.6540 18.066    404.7  102.00    21.75        \n",
       "5 0.6600 17.826    400.4  102.55    21.81        \n",
       "6 0.6640 17.722    398.1  102.69    21.70        "
      ]
     },
     "metadata": {},
     "output_type": "display_data"
    }
   ],
   "source": [
    "head(sp500_features)"
   ]
  },
  {
   "cell_type": "code",
   "execution_count": 18,
   "metadata": {
    "scrolled": true
   },
   "outputs": [],
   "source": [
    "sp500_features_pca_out_full <- PCA(sp500_features, \n",
    "                                   quali.sup = c(2:7),\n",
    "                                   quanti.sup = c(1),\n",
    "                                   ncp = 3, \n",
    "                                   scale.unit = T,\n",
    "                                   graph = F)"
   ]
  },
  {
   "cell_type": "code",
   "execution_count": 88,
   "metadata": {},
   "outputs": [
    {
     "name": "stdout",
     "output_type": "stream",
     "text": [
      "\u001b[90m# A tibble: 6 x 15\u001b[39m\n",
      "   pct.chg up2cd up3cd up4cd dn2cd dn3cd dn4cd treasury_bond cattle coffee\n",
      "     \u001b[3m\u001b[90m<dbl>\u001b[39m\u001b[23m \u001b[3m\u001b[90m<fct>\u001b[39m\u001b[23m \u001b[3m\u001b[90m<fct>\u001b[39m\u001b[23m \u001b[3m\u001b[90m<fct>\u001b[39m\u001b[23m \u001b[3m\u001b[90m<fct>\u001b[39m\u001b[23m \u001b[3m\u001b[90m<fct>\u001b[39m\u001b[23m \u001b[3m\u001b[90m<fct>\u001b[39m\u001b[23m         \u001b[3m\u001b[90m<dbl>\u001b[39m\u001b[23m  \u001b[3m\u001b[90m<dbl>\u001b[39m\u001b[23m  \u001b[3m\u001b[90m<dbl>\u001b[39m\u001b[23m\n",
      "\u001b[90m1\u001b[39m -\u001b[31m0\u001b[39m\u001b[31m.\u001b[39m\u001b[31m00\u001b[39m\u001b[31m5\u001b[4m5\u001b[24m\u001b[4m0\u001b[24m\u001b[39m 0     0     0     0     0     0              5.98   64.7   1.04\n",
      "\u001b[90m2\u001b[39m -\u001b[31m0\u001b[39m\u001b[31m.\u001b[39m\u001b[31m0\u001b[39m\u001b[31m22\u001b[4m0\u001b[24m\u001b[39m  0     0     0     1     0     0              5.94   64.7   1.05\n",
      "\u001b[90m3\u001b[39m -\u001b[31m0\u001b[39m\u001b[31m.\u001b[39m\u001b[31m00\u001b[39m\u001b[31m7\u001b[4m0\u001b[24m\u001b[4m8\u001b[24m\u001b[39m 0     0     0     1     1     0              5.79   64     1.05\n",
      "\u001b[90m4\u001b[39m -\u001b[31m0\u001b[39m\u001b[31m.\u001b[39m\u001b[31m00\u001b[39m\u001b[31m2\u001b[4m1\u001b[24m\u001b[4m9\u001b[24m\u001b[39m 0     0     0     1     1     1              5.84   63.9   1.06\n",
      "\u001b[90m5\u001b[39m -\u001b[31m0\u001b[39m\u001b[31m.\u001b[39m\u001b[31m00\u001b[39m\u001b[31m4\u001b[4m5\u001b[24m\u001b[4m7\u001b[24m\u001b[39m 0     0     0     1     1     1              5.9    63.5   1.03\n",
      "\u001b[90m6\u001b[39m  0.009\u001b[4m8\u001b[24m\u001b[4m2\u001b[24m 0     0     0     0     0     0              5.94   63.7   1.06\n",
      "\u001b[90m# ... with 5 more variables: copper \u001b[3m\u001b[90m<dbl>\u001b[90m\u001b[23m, crude_oil \u001b[3m\u001b[90m<dbl>\u001b[90m\u001b[23m, lumber \u001b[3m\u001b[90m<dbl>\u001b[90m\u001b[23m,\n",
      "#   us_dollar \u001b[3m\u001b[90m<dbl>\u001b[90m\u001b[23m, vix_adj_close \u001b[3m\u001b[90m<dbl>\u001b[90m\u001b[23m\u001b[39m\n"
     ]
    },
    {
     "data": {
      "text/html": [
       "'Number of rows in training: 4026'"
      ],
      "text/latex": [
       "'Number of rows in training: 4026'"
      ],
      "text/markdown": [
       "'Number of rows in training: 4026'"
      ],
      "text/plain": [
       "[1] \"Number of rows in training: 4026\""
      ]
     },
     "metadata": {},
     "output_type": "display_data"
    },
    {
     "name": "stdout",
     "output_type": "stream",
     "text": [
      "\u001b[90m# A tibble: 6 x 15\u001b[39m\n",
      "   pct.chg up2cd up3cd up4cd dn2cd dn3cd dn4cd treasury_bond cattle coffee\n",
      "     \u001b[3m\u001b[90m<dbl>\u001b[39m\u001b[23m \u001b[3m\u001b[90m<fct>\u001b[39m\u001b[23m \u001b[3m\u001b[90m<fct>\u001b[39m\u001b[23m \u001b[3m\u001b[90m<fct>\u001b[39m\u001b[23m \u001b[3m\u001b[90m<fct>\u001b[39m\u001b[23m \u001b[3m\u001b[90m<fct>\u001b[39m\u001b[23m \u001b[3m\u001b[90m<fct>\u001b[39m\u001b[23m         \u001b[3m\u001b[90m<dbl>\u001b[39m\u001b[23m  \u001b[3m\u001b[90m<dbl>\u001b[39m\u001b[23m  \u001b[3m\u001b[90m<dbl>\u001b[39m\u001b[23m\n",
      "\u001b[90m1\u001b[39m -\u001b[31m5\u001b[39m\u001b[31m.\u001b[39m\u001b[31m66\u001b[39m\u001b[90me\u001b[39m\u001b[31m-3\u001b[39m 0     0     0     0     0     0              2.32   151.   1.29\n",
      "\u001b[90m2\u001b[39m -\u001b[31m1\u001b[39m\u001b[31m.\u001b[39m\u001b[31m98\u001b[39m\u001b[90me\u001b[39m\u001b[31m-3\u001b[39m 0     0     0     1     0     0              2.32   151.   1.27\n",
      "\u001b[90m3\u001b[39m -\u001b[31m9\u001b[39m\u001b[31m.\u001b[39m\u001b[31m81\u001b[39m\u001b[90me\u001b[39m\u001b[31m-3\u001b[39m 0     0     0     1     1     0              2.35   149.   1.29\n",
      "\u001b[90m4\u001b[39m  5.33\u001b[90me\u001b[39m\u001b[31m-3\u001b[39m 0     0     0     0     0     0              2.26   151.   1.27\n",
      "\u001b[90m5\u001b[39m -\u001b[31m6\u001b[39m\u001b[31m.\u001b[39m\u001b[31m0\u001b[39m\u001b[31m6\u001b[39m\u001b[90me\u001b[39m\u001b[31m-3\u001b[39m 0     0     0     0     0     0              2.37   152.   1.30\n",
      "\u001b[90m6\u001b[39m -\u001b[31m6\u001b[39m\u001b[31m.\u001b[39m\u001b[31m35\u001b[39m\u001b[90me\u001b[39m\u001b[31m-4\u001b[39m 0     0     0     1     0     0              2.42   152.   1.28\n",
      "\u001b[90m# ... with 5 more variables: copper \u001b[3m\u001b[90m<dbl>\u001b[90m\u001b[23m, crude_oil \u001b[3m\u001b[90m<dbl>\u001b[90m\u001b[23m, lumber \u001b[3m\u001b[90m<dbl>\u001b[90m\u001b[23m,\n",
      "#   us_dollar \u001b[3m\u001b[90m<dbl>\u001b[90m\u001b[23m, vix_adj_close \u001b[3m\u001b[90m<dbl>\u001b[90m\u001b[23m\u001b[39m\n"
     ]
    },
    {
     "data": {
      "text/html": [
       "'Number of rows in test: 1007'"
      ],
      "text/latex": [
       "'Number of rows in test: 1007'"
      ],
      "text/markdown": [
       "'Number of rows in test: 1007'"
      ],
      "text/plain": [
       "[1] \"Number of rows in test: 1007\""
      ]
     },
     "metadata": {},
     "output_type": "display_data"
    }
   ],
   "source": [
    "# Train, Test Split\n",
    "\n",
    "ndata = nrow(sp500_features)\n",
    "split = .8\n",
    "ntrain = floor(ndata * split)\n",
    "ntest = floor(ndata * (1-split))\n",
    "idxtrain = seq(1:ntrain)\n",
    "\n",
    "sp500_features.train <- sp500_features[idxtrain,]\n",
    "print(head(sp500_features.train))\n",
    "paste0(\"Number of rows in training: \", nrow(sp500_features.train))\n",
    "\n",
    "sp500_features.test <- sp500_features[-idxtrain,]\n",
    "print(head(sp500_features.test))\n",
    "paste0(\"Number of rows in test: \", nrow(sp500_features.test))"
   ]
  },
  {
   "cell_type": "code",
   "execution_count": 89,
   "metadata": {},
   "outputs": [
    {
     "name": "stdout",
     "output_type": "stream",
     "text": [
      "Principal Component Analysis \n",
      "\n",
      "4026 samples\n",
      "  14 predictor\n",
      "\n",
      "Pre-processing: centered (14), scaled (14) \n",
      "Resampling: Bootstrapped (25 reps) \n",
      "Summary of sample sizes: 4026, 4026, 4026, 4026, 4026, 4026, ... \n",
      "Resampling results across tuning parameters:\n",
      "\n",
      "  ncomp  RMSE        Rsquared     MAE        \n",
      "  1      0.01261350  0.004647481  0.008454663\n",
      "  2      0.01166678  0.148496057  0.007747604\n",
      "  3      0.01163746  0.152808692  0.007716288\n",
      "\n",
      "RMSE was used to select the optimal model using the smallest value.\n",
      "The final value used for the model was ncomp = 3.\n",
      "Data: \tX dimension: 4026 14 \n",
      "\tY dimension: 4026 1\n",
      "Fit method: svdpc\n",
      "Number of components considered: 3\n",
      "TRAINING: % variance explained\n",
      "          1 comps  2 comps  3 comps\n",
      "X         33.2075    51.54    63.83\n",
      ".outcome   0.4102    14.95    15.46\n"
     ]
    }
   ],
   "source": [
    "# Train the pcr model with 3 principal components\n",
    "\n",
    "pcr.model <- train(pct.chg ~ . , data=sp500_features.train, \n",
    "                   preProcess = c(\"center\", \"scale\"),\n",
    "                   method = \"pcr\", scale = T)\n",
    "# model results\n",
    "print(pcr.model)\n",
    "summary(pcr.model)"
   ]
  },
  {
   "cell_type": "code",
   "execution_count": 90,
   "metadata": {},
   "outputs": [
    {
     "data": {
      "image/png": "[encoded data removed]",
      "text/plain": [
       "Plot with title \"Prediction plot\""
      ]
     },
     "metadata": {},
     "output_type": "display_data"
    }
   ],
   "source": [
    "predplot(pcr.model)"
   ]
  },
  {
   "cell_type": "code",
   "execution_count": 130,
   "metadata": {},
   "outputs": [
    {
     "data": {
      "text/html": [
       "6.34626854612967e-05"
      ],
      "text/latex": [
       "6.34626854612967e-05"
      ],
      "text/markdown": [
       "6.34626854612967e-05"
      ],
      "text/plain": [
       "[1] 6.346269e-05"
      ]
     },
     "metadata": {},
     "output_type": "display_data"
    },
    {
     "data": {
      "text/html": [
       "<table>\n",
       "<caption>A data.frame: 1 × 3</caption>\n",
       "<thead>\n",
       "\t<tr><th scope=col>correct</th><th scope=col>total</th><th scope=col>accuracy</th></tr>\n",
       "\t<tr><th scope=col>&lt;int&gt;</th><th scope=col>&lt;int&gt;</th><th scope=col>&lt;dbl&gt;</th></tr>\n",
       "</thead>\n",
       "<tbody>\n",
       "\t<tr><td>745</td><td>1007</td><td>0.7398213</td></tr>\n",
       "</tbody>\n",
       "</table>\n"
      ],
      "text/latex": [
       "A data.frame: 1 × 3\n",
       "\\begin{tabular}{r|lll}\n",
       " correct & total & accuracy\\\\\n",
       " <int> & <int> & <dbl>\\\\\n",
       "\\hline\n",
       "\t 745 & 1007 & 0.7398213\\\\\n",
       "\\end{tabular}\n"
      ],
      "text/markdown": [
       "\n",
       "A data.frame: 1 × 3\n",
       "\n",
       "| correct &lt;int&gt; | total &lt;int&gt; | accuracy &lt;dbl&gt; |\n",
       "|---|---|---|\n",
       "| 745 | 1007 | 0.7398213 |\n",
       "\n"
      ],
      "text/plain": [
       "  correct total accuracy \n",
       "1 745     1007  0.7398213"
      ]
     },
     "metadata": {},
     "output_type": "display_data"
    }
   ],
   "source": [
    "# test model\n",
    "\n",
    "sp500_features.predict <- predict(pcr.model, newdata = sp500_features.test)\n",
    "sp500_pcr.out <- data.frame(test.values = sp500_features.test[[1]],\n",
    "           pred.values = sp500_features.predict)\n",
    "\n",
    "# adjusted R-squared for test set\n",
    "# (expected to be poor)\n",
    "mean((sp500_features.predict - sp500_features.test[[1]])^2)\n",
    "\n",
    "# check\n",
    "\n",
    "sp500_pcr.out %>% \n",
    "    mutate(\n",
    "        test.move = case_when(test.values > 0 ~ 1, T ~ 0),\n",
    "        pred.move = case_when(pred.values > 0 ~ 1, T ~ 0)) %>% \n",
    "    summarize(correct = sum(test.move == pred.move), \n",
    "              total = n(), \n",
    "              accuracy = mean(test.move == pred.move))"
   ]
  },
  {
   "cell_type": "code",
   "execution_count": 93,
   "metadata": {},
   "outputs": [
    {
     "name": "stdout",
     "output_type": "stream",
     "text": [
      "Classes 'tbl_df', 'tbl' and 'data.frame':\t5033 obs. of  10 variables:\n",
      " $ move : Factor w/ 2 levels \"0\",\"1\": 1 1 1 1 1 2 2 2 2 1 ...\n",
      " $ up2cd: Factor w/ 2 levels \"0\",\"1\": 1 1 1 1 1 1 2 2 2 1 ...\n",
      " $ up3cd: Factor w/ 2 levels \"0\",\"1\": 1 1 1 1 1 1 1 2 2 1 ...\n",
      " $ up4cd: Factor w/ 2 levels \"0\",\"1\": 1 1 1 1 1 1 1 1 2 1 ...\n",
      " $ dn2cd: Factor w/ 2 levels \"0\",\"1\": 1 2 2 2 2 1 1 1 1 1 ...\n",
      " $ dn3cd: Factor w/ 2 levels \"0\",\"1\": 1 1 2 2 2 1 1 1 1 1 ...\n",
      " $ dn4cd: Factor w/ 2 levels \"0\",\"1\": 1 1 1 2 2 1 1 1 1 1 ...\n",
      " $ Dim.1: num  -3.19 -3.13 -3.07 -3.06 -3.12 ...\n",
      " $ Dim.2: num  0.454 0.739 0.863 0.962 0.929 ...\n",
      " $ Dim.3: num  0.706 0.791 0.784 0.846 0.852 ...\n"
     ]
    }
   ],
   "source": [
    "pc_df <- data.frame(sp500_features_pca_out_full$ind$coord)\n",
    "sp500.pc <- sp500_features %>% \n",
    "    select(1:7) %>% \n",
    "    mutate(move = as.factor(case_when(pct.chg > 0 ~ 1, T ~ 0))) %>% \n",
    "    select(8,2:7)\n",
    "sp500.pc <- bind_cols(sp500.pc, pc_df)\n",
    "str(sp500.pc)"
   ]
  },
  {
   "cell_type": "code",
   "execution_count": 95,
   "metadata": {},
   "outputs": [
    {
     "name": "stdout",
     "output_type": "stream",
     "text": [
      "\u001b[90m# A tibble: 6 x 10\u001b[39m\n",
      "  move  up2cd up3cd up4cd dn2cd dn3cd dn4cd Dim.1 Dim.2 Dim.3\n",
      "  \u001b[3m\u001b[90m<fct>\u001b[39m\u001b[23m \u001b[3m\u001b[90m<fct>\u001b[39m\u001b[23m \u001b[3m\u001b[90m<fct>\u001b[39m\u001b[23m \u001b[3m\u001b[90m<fct>\u001b[39m\u001b[23m \u001b[3m\u001b[90m<fct>\u001b[39m\u001b[23m \u001b[3m\u001b[90m<fct>\u001b[39m\u001b[23m \u001b[3m\u001b[90m<fct>\u001b[39m\u001b[23m \u001b[3m\u001b[90m<dbl>\u001b[39m\u001b[23m \u001b[3m\u001b[90m<dbl>\u001b[39m\u001b[23m \u001b[3m\u001b[90m<dbl>\u001b[39m\u001b[23m\n",
      "\u001b[90m1\u001b[39m 0     0     0     0     0     0     0     -\u001b[31m3\u001b[39m\u001b[31m.\u001b[39m\u001b[31m19\u001b[39m 0.454 0.706\n",
      "\u001b[90m2\u001b[39m 0     0     0     0     1     0     0     -\u001b[31m3\u001b[39m\u001b[31m.\u001b[39m\u001b[31m13\u001b[39m 0.739 0.791\n",
      "\u001b[90m3\u001b[39m 0     0     0     0     1     1     0     -\u001b[31m3\u001b[39m\u001b[31m.\u001b[39m\u001b[31m0\u001b[39m\u001b[31m7\u001b[39m 0.863 0.784\n",
      "\u001b[90m4\u001b[39m 0     0     0     0     1     1     1     -\u001b[31m3\u001b[39m\u001b[31m.\u001b[39m\u001b[31m0\u001b[39m\u001b[31m6\u001b[39m 0.962 0.846\n",
      "\u001b[90m5\u001b[39m 0     0     0     0     1     1     1     -\u001b[31m3\u001b[39m\u001b[31m.\u001b[39m\u001b[31m12\u001b[39m 0.929 0.852\n",
      "\u001b[90m6\u001b[39m 1     0     0     0     0     0     0     -\u001b[31m3\u001b[39m\u001b[31m.\u001b[39m\u001b[31m12\u001b[39m 0.910 0.861\n"
     ]
    },
    {
     "data": {
      "text/html": [
       "'Number of rows in training: 4026'"
      ],
      "text/latex": [
       "'Number of rows in training: 4026'"
      ],
      "text/markdown": [
       "'Number of rows in training: 4026'"
      ],
      "text/plain": [
       "[1] \"Number of rows in training: 4026\""
      ]
     },
     "metadata": {},
     "output_type": "display_data"
    },
    {
     "name": "stdout",
     "output_type": "stream",
     "text": [
      "\u001b[90m# A tibble: 6 x 10\u001b[39m\n",
      "  move  up2cd up3cd up4cd dn2cd dn3cd dn4cd Dim.1 Dim.2 Dim.3\n",
      "  \u001b[3m\u001b[90m<fct>\u001b[39m\u001b[23m \u001b[3m\u001b[90m<fct>\u001b[39m\u001b[23m \u001b[3m\u001b[90m<fct>\u001b[39m\u001b[23m \u001b[3m\u001b[90m<fct>\u001b[39m\u001b[23m \u001b[3m\u001b[90m<fct>\u001b[39m\u001b[23m \u001b[3m\u001b[90m<fct>\u001b[39m\u001b[23m \u001b[3m\u001b[90m<fct>\u001b[39m\u001b[23m \u001b[3m\u001b[90m<dbl>\u001b[39m\u001b[23m \u001b[3m\u001b[90m<dbl>\u001b[39m\u001b[23m \u001b[3m\u001b[90m<dbl>\u001b[39m\u001b[23m\n",
      "\u001b[90m1\u001b[39m 0     0     0     0     0     0     0      1.19 0.879 -\u001b[31m1\u001b[39m\u001b[31m.\u001b[39m\u001b[31m50\u001b[39m\n",
      "\u001b[90m2\u001b[39m 0     0     0     0     1     0     0      1.19 0.944 -\u001b[31m1\u001b[39m\u001b[31m.\u001b[39m\u001b[31m44\u001b[39m\n",
      "\u001b[90m3\u001b[39m 0     0     0     0     1     1     0      1.22 1.01  -\u001b[31m1\u001b[39m\u001b[31m.\u001b[39m\u001b[31m34\u001b[39m\n",
      "\u001b[90m4\u001b[39m 1     0     0     0     0     0     0      1.21 0.984 -\u001b[31m1\u001b[39m\u001b[31m.\u001b[39m\u001b[31m45\u001b[39m\n",
      "\u001b[90m5\u001b[39m 0     0     0     0     0     0     0      1.24 1.03  -\u001b[31m1\u001b[39m\u001b[31m.\u001b[39m\u001b[31m39\u001b[39m\n",
      "\u001b[90m6\u001b[39m 0     0     0     0     1     0     0      1.21 1.04  -\u001b[31m1\u001b[39m\u001b[31m.\u001b[39m\u001b[31m37\u001b[39m\n"
     ]
    },
    {
     "data": {
      "text/html": [
       "'Number of rows in test: 1007'"
      ],
      "text/latex": [
       "'Number of rows in test: 1007'"
      ],
      "text/markdown": [
       "'Number of rows in test: 1007'"
      ],
      "text/plain": [
       "[1] \"Number of rows in test: 1007\""
      ]
     },
     "metadata": {},
     "output_type": "display_data"
    }
   ],
   "source": [
    "# Train and test sets \n",
    "\n",
    "sp500.pc.train <- sp500.pc[idxtrain,]\n",
    "print(head(sp500.pc.train))\n",
    "paste0(\"Number of rows in training: \", nrow(sp500.pc.train))\n",
    "\n",
    "sp500.pc.test <- sp500.pc[-idxtrain,]\n",
    "print(head(sp500.pc.test))\n",
    "paste0(\"Number of rows in test: \", nrow(sp500.pc.test))"
   ]
  },
  {
   "cell_type": "markdown",
   "metadata": {},
   "source": [
    "## Naive Bayes"
   ]
  },
  {
   "cell_type": "code",
   "execution_count": 96,
   "metadata": {},
   "outputs": [
    {
     "name": "stdout",
     "output_type": "stream",
     "text": [
      "Naive Bayes \n",
      "\n",
      "4026 samples\n",
      "   9 predictor\n",
      "   2 classes: '0', '1' \n",
      "\n",
      "No pre-processing\n",
      "Resampling: Cross-Validated (10 fold, repeated 10 times) \n",
      "Summary of sample sizes: 3623, 3623, 3623, 3622, 3624, 3624, ... \n",
      "Resampling results across tuning parameters:\n",
      "\n",
      "  usekernel  Accuracy   Kappa    \n",
      "  FALSE            NaN        NaN\n",
      "   TRUE      0.7340079  0.4806808\n",
      "\n",
      "Tuning parameter 'fL' was held constant at a value of 0\n",
      "Tuning\n",
      " parameter 'adjust' was held constant at a value of 1\n",
      "Accuracy was used to select the optimal model using the largest value.\n",
      "The final values used for the model were fL = 0, usekernel = TRUE and adjust\n",
      " = 1.\n"
     ]
    }
   ],
   "source": [
    "# use caret package to define tuning\n",
    "# use a 10-fold cross-validation repeated 10 times\n",
    "\n",
    "train.control <- trainControl(method = \"repeatedcv\", number = 10, repeats = 10)\n",
    "\n",
    "# Train the model using the training set with 10-fold cv\n",
    "nb.classifier <- train(move ~ ., data = sp500.pc.train, \n",
    "                       method = \"nb\", trControl = train.control)\n",
    "\n",
    "# Summarize the results\n",
    "print(nb.classifier)"
   ]
  },
  {
   "cell_type": "code",
   "execution_count": 97,
   "metadata": {},
   "outputs": [
    {
     "data": {
      "text/plain": [
       "Confusion Matrix and Statistics\n",
       "\n",
       "          Reference\n",
       "Prediction    0    1\n",
       "         0 1169   85\n",
       "         1  976 1796\n",
       "                                        \n",
       "               Accuracy : 0.7365        \n",
       "                 95% CI : (0.7226, 0.75)\n",
       "    No Information Rate : 0.5328        \n",
       "    P-Value [Acc > NIR] : < 2.2e-16     \n",
       "                                        \n",
       "                  Kappa : 0.4856        \n",
       "                                        \n",
       " Mcnemar's Test P-Value : < 2.2e-16     \n",
       "                                        \n",
       "            Sensitivity : 0.5450        \n",
       "            Specificity : 0.9548        \n",
       "         Pos Pred Value : 0.9322        \n",
       "         Neg Pred Value : 0.6479        \n",
       "             Prevalence : 0.5328        \n",
       "         Detection Rate : 0.2904        \n",
       "   Detection Prevalence : 0.3115        \n",
       "      Balanced Accuracy : 0.7499        \n",
       "                                        \n",
       "       'Positive' Class : 0             \n",
       "                                        "
      ]
     },
     "metadata": {},
     "output_type": "display_data"
    },
    {
     "data": {
      "text/plain": [
       "Confusion Matrix and Statistics\n",
       "\n",
       "          Reference\n",
       "Prediction   0   1\n",
       "         0 323  52\n",
       "         1 218 414\n",
       "                                         \n",
       "               Accuracy : 0.7319         \n",
       "                 95% CI : (0.7034, 0.759)\n",
       "    No Information Rate : 0.5372         \n",
       "    P-Value [Acc > NIR] : < 2.2e-16      \n",
       "                                         \n",
       "                  Kappa : 0.4738         \n",
       "                                         \n",
       " Mcnemar's Test P-Value : < 2.2e-16      \n",
       "                                         \n",
       "            Sensitivity : 0.5970         \n",
       "            Specificity : 0.8884         \n",
       "         Pos Pred Value : 0.8613         \n",
       "         Neg Pred Value : 0.6551         \n",
       "             Prevalence : 0.5372         \n",
       "         Detection Rate : 0.3208         \n",
       "   Detection Prevalence : 0.3724         \n",
       "      Balanced Accuracy : 0.7427         \n",
       "                                         \n",
       "       'Positive' Class : 0              \n",
       "                                         "
      ]
     },
     "metadata": {},
     "output_type": "display_data"
    }
   ],
   "source": [
    "# Training set accuracy\n",
    "\n",
    "nb.predict <- predict(nb.classifier, newdata = sp500.pc.train)\n",
    "confusionMatrix(data = nb.predict, sp500.pc.train$move)\n",
    "\n",
    "# Test set accuracy\n",
    "\n",
    "nb.predict <- predict(nb.classifier, newdata = sp500.pc.test)\n",
    "confusionMatrix(data = nb.predict, sp500.pc.test$move)"
   ]
  },
  {
   "cell_type": "markdown",
   "metadata": {},
   "source": [
    "## GLM (Generalized Linear Model)"
   ]
  },
  {
   "cell_type": "code",
   "execution_count": 98,
   "metadata": {},
   "outputs": [
    {
     "name": "stdout",
     "output_type": "stream",
     "text": [
      "Generalized Linear Model \n",
      "\n",
      "4026 samples\n",
      "   9 predictor\n",
      "   2 classes: '0', '1' \n",
      "\n",
      "No pre-processing\n",
      "Resampling: Cross-Validated (10 fold, repeated 10 times) \n",
      "Summary of sample sizes: 3623, 3623, 3623, 3624, 3623, 3623, ... \n",
      "Resampling results:\n",
      "\n",
      "  Accuracy  Kappa    \n",
      "  0.715771  0.4279155\n",
      "\n"
     ]
    },
    {
     "data": {
      "text/html": [
       "<dl class=dl-horizontal>\n",
       "\t<dt>0</dt>\n",
       "\t\t<dd>756</dd>\n",
       "\t<dt>1</dt>\n",
       "\t\t<dd>251</dd>\n",
       "</dl>\n"
      ],
      "text/latex": [
       "\\begin{description*}\n",
       "\\item[0] 756\n",
       "\\item[1] 251\n",
       "\\end{description*}\n"
      ],
      "text/markdown": [
       "0\n",
       ":   7561\n",
       ":   251\n",
       "\n"
      ],
      "text/plain": [
       "  0   1 \n",
       "756 251 "
      ]
     },
     "metadata": {},
     "output_type": "display_data"
    },
    {
     "data": {
      "text/html": [
       "<table>\n",
       "<caption>A tibble: 1 × 3</caption>\n",
       "<thead>\n",
       "\t<tr><th scope=col>correct</th><th scope=col>total</th><th scope=col>accuracy</th></tr>\n",
       "\t<tr><th scope=col>&lt;int&gt;</th><th scope=col>&lt;int&gt;</th><th scope=col>&lt;dbl&gt;</th></tr>\n",
       "</thead>\n",
       "<tbody>\n",
       "\t<tr><td>746</td><td>1007</td><td>0.7408143</td></tr>\n",
       "</tbody>\n",
       "</table>\n"
      ],
      "text/latex": [
       "A tibble: 1 × 3\n",
       "\\begin{tabular}{r|lll}\n",
       " correct & total & accuracy\\\\\n",
       " <int> & <int> & <dbl>\\\\\n",
       "\\hline\n",
       "\t 746 & 1007 & 0.7408143\\\\\n",
       "\\end{tabular}\n"
      ],
      "text/markdown": [
       "\n",
       "A tibble: 1 × 3\n",
       "\n",
       "| correct &lt;int&gt; | total &lt;int&gt; | accuracy &lt;dbl&gt; |\n",
       "|---|---|---|\n",
       "| 746 | 1007 | 0.7408143 |\n",
       "\n"
      ],
      "text/plain": [
       "  correct total accuracy \n",
       "1 746     1007  0.7408143"
      ]
     },
     "metadata": {},
     "output_type": "display_data"
    }
   ],
   "source": [
    "# Train the model using training set\n",
    "glm.classifier <- train(move ~ ., data = sp500.pc.train, \n",
    "                    method = \"glm\", family = \"binomial\",\n",
    "                    trControl = train.control)\n",
    "# Summarize the results\n",
    "print(glm.classifier)\n",
    "\n",
    "# Test model\n",
    "glm.predict <- predict(glm.classifier, newdata = sp500.pc.test)\n",
    "summary(glm.predict)\n",
    "\n",
    "# performance of test\n",
    "sp500.pc.test %>% \n",
    "    mutate(glm.pred = glm.predict) %>% \n",
    "    summarize(correct = sum(move == glm.pred), \n",
    "              total = n(), \n",
    "              accuracy = mean(move == glm.pred))"
   ]
  },
  {
   "cell_type": "markdown",
   "metadata": {},
   "source": [
    "## RPART (Recursive Partitioning And Regression Trees)"
   ]
  },
  {
   "cell_type": "code",
   "execution_count": 99,
   "metadata": {},
   "outputs": [
    {
     "name": "stdout",
     "output_type": "stream",
     "text": [
      "CART \n",
      "\n",
      "4026 samples\n",
      "   9 predictor\n",
      "   2 classes: '0', '1' \n",
      "\n",
      "No pre-processing\n",
      "Resampling: Cross-Validated (10 fold, repeated 10 times) \n",
      "Summary of sample sizes: 3624, 3624, 3624, 3623, 3624, 3623, ... \n",
      "Resampling results across tuning parameters:\n",
      "\n",
      "  cp            Accuracy   Kappa    \n",
      "  0.0005316321  0.7047983  0.4094815\n",
      "  0.0007974482  0.7050222  0.4100499\n",
      "  0.0010632642  0.7046481  0.4088361\n",
      "  0.0013290803  0.7069308  0.4131700\n",
      "  0.0015948963  0.7087686  0.4183673\n",
      "  0.0021265284  0.7145580  0.4315592\n",
      "  0.0023923445  0.7166685  0.4355122\n",
      "  0.0024303182  0.7166685  0.4355122\n",
      "  0.0027910686  0.7187792  0.4409763\n",
      "  0.4343434343  0.6317608  0.2409289\n",
      "\n",
      "Accuracy was used to select the optimal model using the largest value.\n",
      "The final value used for the model was cp = 0.002791069.\n"
     ]
    }
   ],
   "source": [
    "# Train the model using training set with 10-fold cv\n",
    "rpart.classifier <- train(move ~ ., data = sp500.pc.train, \n",
    "                    method = \"rpart\", \n",
    "                    trControl = train.control, tuneLength = 10)\n",
    "# Summarize the results\n",
    "print(rpart.classifier)"
   ]
  },
  {
   "cell_type": "code",
   "execution_count": 100,
   "metadata": {},
   "outputs": [
    {
     "data": {
      "text/html": [
       "<table>\n",
       "<caption>A tibble: 1 × 3</caption>\n",
       "<thead>\n",
       "\t<tr><th scope=col>correct</th><th scope=col>total</th><th scope=col>accuracy</th></tr>\n",
       "\t<tr><th scope=col>&lt;int&gt;</th><th scope=col>&lt;int&gt;</th><th scope=col>&lt;dbl&gt;</th></tr>\n",
       "</thead>\n",
       "<tbody>\n",
       "\t<tr><td>744</td><td>1007</td><td>0.7388282</td></tr>\n",
       "</tbody>\n",
       "</table>\n"
      ],
      "text/latex": [
       "A tibble: 1 × 3\n",
       "\\begin{tabular}{r|lll}\n",
       " correct & total & accuracy\\\\\n",
       " <int> & <int> & <dbl>\\\\\n",
       "\\hline\n",
       "\t 744 & 1007 & 0.7388282\\\\\n",
       "\\end{tabular}\n"
      ],
      "text/markdown": [
       "\n",
       "A tibble: 1 × 3\n",
       "\n",
       "| correct &lt;int&gt; | total &lt;int&gt; | accuracy &lt;dbl&gt; |\n",
       "|---|---|---|\n",
       "| 744 | 1007 | 0.7388282 |\n",
       "\n"
      ],
      "text/plain": [
       "  correct total accuracy \n",
       "1 744     1007  0.7388282"
      ]
     },
     "metadata": {},
     "output_type": "display_data"
    }
   ],
   "source": [
    "rpart.predict <- predict(rpart.classifier, newdata = sp500.pc.test)\n",
    "# performance of test\n",
    "sp500.pc.test %>% \n",
    "    mutate(rpart.pred = rpart.predict) %>% \n",
    "    summarize(correct = sum(move == rpart.pred), \n",
    "              total = n(), \n",
    "              accuracy = mean(move == rpart.pred))"
   ]
  },
  {
   "cell_type": "markdown",
   "metadata": {},
   "source": [
    "## GBM (Generalized Boosted Regression Models)"
   ]
  },
  {
   "cell_type": "code",
   "execution_count": 101,
   "metadata": {},
   "outputs": [
    {
     "name": "stdout",
     "output_type": "stream",
     "text": [
      "Stochastic Gradient Boosting \n",
      "\n",
      "4026 samples\n",
      "   9 predictor\n",
      "   2 classes: '0', '1' \n",
      "\n",
      "No pre-processing\n",
      "Resampling: Cross-Validated (10 fold, repeated 10 times) \n",
      "Summary of sample sizes: 3624, 3623, 3623, 3623, 3623, 3623, ... \n",
      "Resampling results across tuning parameters:\n",
      "\n",
      "  interaction.depth  n.trees  Accuracy   Kappa    \n",
      "  1                   50      0.7277466  0.4481153\n",
      "  1                  100      0.7001461  0.3971093\n",
      "  1                  150      0.6956481  0.3886105\n",
      "  2                   50      0.7047922  0.4069800\n",
      "  2                  100      0.6942352  0.3859148\n",
      "  2                  150      0.6900150  0.3776121\n",
      "  3                   50      0.6965680  0.3898654\n",
      "  3                  100      0.6895940  0.3764810\n",
      "  3                  150      0.6885009  0.3742893\n",
      "\n",
      "Tuning parameter 'shrinkage' was held constant at a value of 0.1\n",
      "\n",
      "Tuning parameter 'n.minobsinnode' was held constant at a value of 10\n",
      "Accuracy was used to select the optimal model using the largest value.\n",
      "The final values used for the model were n.trees = 50, interaction.depth =\n",
      " 1, shrinkage = 0.1 and n.minobsinnode = 10.\n"
     ]
    }
   ],
   "source": [
    "library(gbm)\n",
    "# Train the model using the training set with 10-fold cv\n",
    "gbm.classifier <- train(move ~ ., data = sp500.pc.train, verbose = FALSE,\n",
    "                       method = \"gbm\", trControl = train.control)\n",
    "# Summarize the results\n",
    "print(gbm.classifier)"
   ]
  },
  {
   "cell_type": "code",
   "execution_count": 102,
   "metadata": {
    "scrolled": true
   },
   "outputs": [
    {
     "data": {
      "text/html": [
       "<table>\n",
       "<caption>A tibble: 1 × 3</caption>\n",
       "<thead>\n",
       "\t<tr><th scope=col>correct</th><th scope=col>total</th><th scope=col>accuracy</th></tr>\n",
       "\t<tr><th scope=col>&lt;int&gt;</th><th scope=col>&lt;int&gt;</th><th scope=col>&lt;dbl&gt;</th></tr>\n",
       "</thead>\n",
       "<tbody>\n",
       "\t<tr><td>741</td><td>1007</td><td>0.7358491</td></tr>\n",
       "</tbody>\n",
       "</table>\n"
      ],
      "text/latex": [
       "A tibble: 1 × 3\n",
       "\\begin{tabular}{r|lll}\n",
       " correct & total & accuracy\\\\\n",
       " <int> & <int> & <dbl>\\\\\n",
       "\\hline\n",
       "\t 741 & 1007 & 0.7358491\\\\\n",
       "\\end{tabular}\n"
      ],
      "text/markdown": [
       "\n",
       "A tibble: 1 × 3\n",
       "\n",
       "| correct &lt;int&gt; | total &lt;int&gt; | accuracy &lt;dbl&gt; |\n",
       "|---|---|---|\n",
       "| 741 | 1007 | 0.7358491 |\n",
       "\n"
      ],
      "text/plain": [
       "  correct total accuracy \n",
       "1 741     1007  0.7358491"
      ]
     },
     "metadata": {},
     "output_type": "display_data"
    }
   ],
   "source": [
    "gbm.predict <- predict(gbm.classifier, newdata = sp500.pc.test)\n",
    "# performance of test\n",
    "sp500.pc.test %>% \n",
    "    mutate(gbm.pred = gbm.predict) %>% \n",
    "    summarize(correct = sum(move == gbm.pred), \n",
    "              total = n(), \n",
    "              accuracy = mean(move == gbm.pred))"
   ]
  },
  {
   "cell_type": "markdown",
   "metadata": {},
   "source": [
    "## LDA (Linear Discriminant Analysis)"
   ]
  },
  {
   "cell_type": "code",
   "execution_count": 103,
   "metadata": {},
   "outputs": [
    {
     "name": "stdout",
     "output_type": "stream",
     "text": [
      "Linear Discriminant Analysis \n",
      "\n",
      "4026 samples\n",
      "   9 predictor\n",
      "   2 classes: '0', '1' \n",
      "\n",
      "No pre-processing\n",
      "Resampling: Cross-Validated (10 fold, repeated 10 times) \n",
      "Summary of sample sizes: 3623, 3623, 3623, 3624, 3623, 3623, ... \n",
      "Resampling results:\n",
      "\n",
      "  Accuracy   Kappa    \n",
      "  0.7161721  0.4285429\n",
      "\n"
     ]
    }
   ],
   "source": [
    "# LDA is mainly used for multi-class classification\n",
    "# However, we'll try it anyways.\n",
    "\n",
    "library(MASS)\n",
    "\n",
    "# Train the model using the training set with 10-fold cv\n",
    "lda.classifier <- train(move ~ ., data = sp500.pc.train, \n",
    "                       method = \"lda\", trControl = train.control)\n",
    "# Summarize the results\n",
    "print(lda.classifier)"
   ]
  },
  {
   "cell_type": "code",
   "execution_count": 104,
   "metadata": {},
   "outputs": [
    {
     "data": {
      "text/html": [
       "<table>\n",
       "<caption>A tibble: 1 × 3</caption>\n",
       "<thead>\n",
       "\t<tr><th scope=col>correct</th><th scope=col>total</th><th scope=col>accuracy</th></tr>\n",
       "\t<tr><th scope=col>&lt;int&gt;</th><th scope=col>&lt;int&gt;</th><th scope=col>&lt;dbl&gt;</th></tr>\n",
       "</thead>\n",
       "<tbody>\n",
       "\t<tr><td>746</td><td>1007</td><td>0.7408143</td></tr>\n",
       "</tbody>\n",
       "</table>\n"
      ],
      "text/latex": [
       "A tibble: 1 × 3\n",
       "\\begin{tabular}{r|lll}\n",
       " correct & total & accuracy\\\\\n",
       " <int> & <int> & <dbl>\\\\\n",
       "\\hline\n",
       "\t 746 & 1007 & 0.7408143\\\\\n",
       "\\end{tabular}\n"
      ],
      "text/markdown": [
       "\n",
       "A tibble: 1 × 3\n",
       "\n",
       "| correct &lt;int&gt; | total &lt;int&gt; | accuracy &lt;dbl&gt; |\n",
       "|---|---|---|\n",
       "| 746 | 1007 | 0.7408143 |\n",
       "\n"
      ],
      "text/plain": [
       "  correct total accuracy \n",
       "1 746     1007  0.7408143"
      ]
     },
     "metadata": {},
     "output_type": "display_data"
    }
   ],
   "source": [
    "lda.predict <- predict(lda.classifier, newdata = sp500.pc.test)\n",
    "# performance of test\n",
    "sp500.pc.test %>% \n",
    "    mutate(lda.pred = lda.predict) %>% \n",
    "    summarize(correct = sum(move == lda.pred), \n",
    "              total = n(), \n",
    "              accuracy = mean(move == lda.pred))"
   ]
  },
  {
   "cell_type": "code",
   "execution_count": null,
   "metadata": {},
   "outputs": [],
   "source": []
  }
 ],
 "metadata": {
  "kernelspec": {
   "display_name": "R",
   "language": "R",
   "name": "ir"
  },
  "language_info": {
   "codemirror_mode": "r",
   "file_extension": ".r",
   "mimetype": "text/x-r-source",
   "name": "R",
   "pygments_lexer": "r",
   "version": "3.5.1"
  }
 },
 "nbformat": 4,
 "nbformat_minor": 2
}
